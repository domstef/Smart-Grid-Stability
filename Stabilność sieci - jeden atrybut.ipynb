{
 "cells": [
  {
   "cell_type": "markdown",
   "id": "281cf002",
   "metadata": {},
   "source": [
    "# MODELE Z JEDNYM ATRYBUTEM"
   ]
  },
  {
   "cell_type": "markdown",
   "id": "e8ca06d0",
   "metadata": {},
   "source": [
    "Zeszyt wykorzytany jest do stworzenia modeli na najbardziej istotnej statystycznie cesze i wizualizacja obliczonych prawdopodobieństw w przestrzeni $\\mathbb{R^2}$.\n",
    "Wykonano również wykresy prawdopodobieństwa dla funkcji logistycznej dzięki wyznaczonym parametrom."
   ]
  },
  {
   "cell_type": "markdown",
   "id": "9cbf78ab",
   "metadata": {},
   "source": [
    "# IMPORT POTRZEBNYCH BIBLIOTEK"
   ]
  },
  {
   "cell_type": "code",
   "execution_count": 1,
   "id": "7f3e6fc3",
   "metadata": {},
   "outputs": [
    {
     "name": "stderr",
     "output_type": "stream",
     "text": [
      "D:\\Programy\\Anaconda\\lib\\site-packages\\scipy\\__init__.py:138: UserWarning: A NumPy version >=1.16.5 and <1.23.0 is required for this version of SciPy (detected version 1.23.4)\n",
      "  warnings.warn(f\"A NumPy version >={np_minversion} and <{np_maxversion} is required for this version of \"\n",
      "D:\\Programy\\Anaconda\\lib\\site-packages\\statsmodels\\tsa\\base\\tsa_model.py:7: FutureWarning: pandas.Int64Index is deprecated and will be removed from pandas in a future version. Use pandas.Index with the appropriate dtype instead.\n",
      "  from pandas import (to_datetime, Int64Index, DatetimeIndex, Period,\n",
      "D:\\Programy\\Anaconda\\lib\\site-packages\\statsmodels\\tsa\\base\\tsa_model.py:7: FutureWarning: pandas.Float64Index is deprecated and will be removed from pandas in a future version. Use pandas.Index with the appropriate dtype instead.\n",
      "  from pandas import (to_datetime, Int64Index, DatetimeIndex, Period,\n"
     ]
    }
   ],
   "source": [
    "import pandas as pd\n",
    "import numpy as np\n",
    "import matplotlib.pyplot as plt\n",
    "import seaborn as sns\n",
    "import statsmodels.api as sm\n",
    "import math\n",
    "from sklearn.metrics import confusion_matrix\n",
    "from sklearn.model_selection import train_test_split\n",
    "from sklearn.preprocessing import StandardScaler\n",
    "sns.set()"
   ]
  },
  {
   "cell_type": "markdown",
   "id": "2a6e8c52",
   "metadata": {},
   "source": [
    "# WCZYTANIE I ANALIZA DANYCH"
   ]
  },
  {
   "cell_type": "code",
   "execution_count": 2,
   "id": "eb7d8515",
   "metadata": {},
   "outputs": [
    {
     "data": {
      "text/html": [
       "<div>\n",
       "<style scoped>\n",
       "    .dataframe tbody tr th:only-of-type {\n",
       "        vertical-align: middle;\n",
       "    }\n",
       "\n",
       "    .dataframe tbody tr th {\n",
       "        vertical-align: top;\n",
       "    }\n",
       "\n",
       "    .dataframe thead th {\n",
       "        text-align: right;\n",
       "    }\n",
       "</style>\n",
       "<table border=\"1\" class=\"dataframe\">\n",
       "  <thead>\n",
       "    <tr style=\"text-align: right;\">\n",
       "      <th></th>\n",
       "      <th>tau1</th>\n",
       "      <th>tau2</th>\n",
       "      <th>tau3</th>\n",
       "      <th>tau4</th>\n",
       "      <th>p1</th>\n",
       "      <th>p2</th>\n",
       "      <th>p3</th>\n",
       "      <th>p4</th>\n",
       "      <th>g1</th>\n",
       "      <th>g2</th>\n",
       "      <th>g3</th>\n",
       "      <th>g4</th>\n",
       "      <th>stabf</th>\n",
       "    </tr>\n",
       "  </thead>\n",
       "  <tbody>\n",
       "    <tr>\n",
       "      <th>0</th>\n",
       "      <td>2.959060</td>\n",
       "      <td>3.079885</td>\n",
       "      <td>8.381025</td>\n",
       "      <td>9.780754</td>\n",
       "      <td>3.763085</td>\n",
       "      <td>-0.782604</td>\n",
       "      <td>-1.257395</td>\n",
       "      <td>-1.723086</td>\n",
       "      <td>0.650456</td>\n",
       "      <td>0.859578</td>\n",
       "      <td>0.887445</td>\n",
       "      <td>0.958034</td>\n",
       "      <td>0</td>\n",
       "    </tr>\n",
       "    <tr>\n",
       "      <th>1</th>\n",
       "      <td>9.304097</td>\n",
       "      <td>4.902524</td>\n",
       "      <td>3.047541</td>\n",
       "      <td>1.369357</td>\n",
       "      <td>5.067812</td>\n",
       "      <td>-1.940058</td>\n",
       "      <td>-1.872742</td>\n",
       "      <td>-1.255012</td>\n",
       "      <td>0.413441</td>\n",
       "      <td>0.862414</td>\n",
       "      <td>0.562139</td>\n",
       "      <td>0.781760</td>\n",
       "      <td>1</td>\n",
       "    </tr>\n",
       "    <tr>\n",
       "      <th>2</th>\n",
       "      <td>8.971707</td>\n",
       "      <td>8.848428</td>\n",
       "      <td>3.046479</td>\n",
       "      <td>1.214518</td>\n",
       "      <td>3.405158</td>\n",
       "      <td>-1.207456</td>\n",
       "      <td>-1.277210</td>\n",
       "      <td>-0.920492</td>\n",
       "      <td>0.163041</td>\n",
       "      <td>0.766689</td>\n",
       "      <td>0.839444</td>\n",
       "      <td>0.109853</td>\n",
       "      <td>0</td>\n",
       "    </tr>\n",
       "    <tr>\n",
       "      <th>3</th>\n",
       "      <td>0.716415</td>\n",
       "      <td>7.669600</td>\n",
       "      <td>4.486641</td>\n",
       "      <td>2.340563</td>\n",
       "      <td>3.963791</td>\n",
       "      <td>-1.027473</td>\n",
       "      <td>-1.938944</td>\n",
       "      <td>-0.997374</td>\n",
       "      <td>0.446209</td>\n",
       "      <td>0.976744</td>\n",
       "      <td>0.929381</td>\n",
       "      <td>0.362718</td>\n",
       "      <td>0</td>\n",
       "    </tr>\n",
       "    <tr>\n",
       "      <th>4</th>\n",
       "      <td>3.134112</td>\n",
       "      <td>7.608772</td>\n",
       "      <td>4.943759</td>\n",
       "      <td>9.857573</td>\n",
       "      <td>3.525811</td>\n",
       "      <td>-1.125531</td>\n",
       "      <td>-1.845975</td>\n",
       "      <td>-0.554305</td>\n",
       "      <td>0.797110</td>\n",
       "      <td>0.455450</td>\n",
       "      <td>0.656947</td>\n",
       "      <td>0.820923</td>\n",
       "      <td>0</td>\n",
       "    </tr>\n",
       "    <tr>\n",
       "      <th>...</th>\n",
       "      <td>...</td>\n",
       "      <td>...</td>\n",
       "      <td>...</td>\n",
       "      <td>...</td>\n",
       "      <td>...</td>\n",
       "      <td>...</td>\n",
       "      <td>...</td>\n",
       "      <td>...</td>\n",
       "      <td>...</td>\n",
       "      <td>...</td>\n",
       "      <td>...</td>\n",
       "      <td>...</td>\n",
       "      <td>...</td>\n",
       "    </tr>\n",
       "    <tr>\n",
       "      <th>9995</th>\n",
       "      <td>2.930406</td>\n",
       "      <td>9.487627</td>\n",
       "      <td>2.376523</td>\n",
       "      <td>6.187797</td>\n",
       "      <td>3.343416</td>\n",
       "      <td>-0.658054</td>\n",
       "      <td>-1.449106</td>\n",
       "      <td>-1.236256</td>\n",
       "      <td>0.601709</td>\n",
       "      <td>0.779642</td>\n",
       "      <td>0.813512</td>\n",
       "      <td>0.608385</td>\n",
       "      <td>0</td>\n",
       "    </tr>\n",
       "    <tr>\n",
       "      <th>9996</th>\n",
       "      <td>3.392299</td>\n",
       "      <td>1.274827</td>\n",
       "      <td>2.954947</td>\n",
       "      <td>6.894759</td>\n",
       "      <td>4.349512</td>\n",
       "      <td>-1.663661</td>\n",
       "      <td>-0.952437</td>\n",
       "      <td>-1.733414</td>\n",
       "      <td>0.502079</td>\n",
       "      <td>0.567242</td>\n",
       "      <td>0.285880</td>\n",
       "      <td>0.366120</td>\n",
       "      <td>1</td>\n",
       "    </tr>\n",
       "    <tr>\n",
       "      <th>9997</th>\n",
       "      <td>2.364034</td>\n",
       "      <td>2.842030</td>\n",
       "      <td>8.776391</td>\n",
       "      <td>1.008906</td>\n",
       "      <td>4.299976</td>\n",
       "      <td>-1.380719</td>\n",
       "      <td>-0.943884</td>\n",
       "      <td>-1.975373</td>\n",
       "      <td>0.487838</td>\n",
       "      <td>0.986505</td>\n",
       "      <td>0.149286</td>\n",
       "      <td>0.145984</td>\n",
       "      <td>1</td>\n",
       "    </tr>\n",
       "    <tr>\n",
       "      <th>9998</th>\n",
       "      <td>9.631511</td>\n",
       "      <td>3.994398</td>\n",
       "      <td>2.757071</td>\n",
       "      <td>7.821347</td>\n",
       "      <td>2.514755</td>\n",
       "      <td>-0.966330</td>\n",
       "      <td>-0.649915</td>\n",
       "      <td>-0.898510</td>\n",
       "      <td>0.365246</td>\n",
       "      <td>0.587558</td>\n",
       "      <td>0.889118</td>\n",
       "      <td>0.818391</td>\n",
       "      <td>0</td>\n",
       "    </tr>\n",
       "    <tr>\n",
       "      <th>9999</th>\n",
       "      <td>6.530527</td>\n",
       "      <td>6.781790</td>\n",
       "      <td>4.349695</td>\n",
       "      <td>8.673138</td>\n",
       "      <td>3.492807</td>\n",
       "      <td>-1.390285</td>\n",
       "      <td>-1.532193</td>\n",
       "      <td>-0.570329</td>\n",
       "      <td>0.073056</td>\n",
       "      <td>0.505441</td>\n",
       "      <td>0.378761</td>\n",
       "      <td>0.942631</td>\n",
       "      <td>0</td>\n",
       "    </tr>\n",
       "  </tbody>\n",
       "</table>\n",
       "<p>10000 rows × 13 columns</p>\n",
       "</div>"
      ],
      "text/plain": [
       "          tau1      tau2      tau3      tau4        p1        p2        p3  \\\n",
       "0     2.959060  3.079885  8.381025  9.780754  3.763085 -0.782604 -1.257395   \n",
       "1     9.304097  4.902524  3.047541  1.369357  5.067812 -1.940058 -1.872742   \n",
       "2     8.971707  8.848428  3.046479  1.214518  3.405158 -1.207456 -1.277210   \n",
       "3     0.716415  7.669600  4.486641  2.340563  3.963791 -1.027473 -1.938944   \n",
       "4     3.134112  7.608772  4.943759  9.857573  3.525811 -1.125531 -1.845975   \n",
       "...        ...       ...       ...       ...       ...       ...       ...   \n",
       "9995  2.930406  9.487627  2.376523  6.187797  3.343416 -0.658054 -1.449106   \n",
       "9996  3.392299  1.274827  2.954947  6.894759  4.349512 -1.663661 -0.952437   \n",
       "9997  2.364034  2.842030  8.776391  1.008906  4.299976 -1.380719 -0.943884   \n",
       "9998  9.631511  3.994398  2.757071  7.821347  2.514755 -0.966330 -0.649915   \n",
       "9999  6.530527  6.781790  4.349695  8.673138  3.492807 -1.390285 -1.532193   \n",
       "\n",
       "            p4        g1        g2        g3        g4  stabf  \n",
       "0    -1.723086  0.650456  0.859578  0.887445  0.958034      0  \n",
       "1    -1.255012  0.413441  0.862414  0.562139  0.781760      1  \n",
       "2    -0.920492  0.163041  0.766689  0.839444  0.109853      0  \n",
       "3    -0.997374  0.446209  0.976744  0.929381  0.362718      0  \n",
       "4    -0.554305  0.797110  0.455450  0.656947  0.820923      0  \n",
       "...        ...       ...       ...       ...       ...    ...  \n",
       "9995 -1.236256  0.601709  0.779642  0.813512  0.608385      0  \n",
       "9996 -1.733414  0.502079  0.567242  0.285880  0.366120      1  \n",
       "9997 -1.975373  0.487838  0.986505  0.149286  0.145984      1  \n",
       "9998 -0.898510  0.365246  0.587558  0.889118  0.818391      0  \n",
       "9999 -0.570329  0.073056  0.505441  0.378761  0.942631      0  \n",
       "\n",
       "[10000 rows x 13 columns]"
      ]
     },
     "execution_count": 2,
     "metadata": {},
     "output_type": "execute_result"
    }
   ],
   "source": [
    "raw_data = pd.read_csv('Data_for_UCI_named.csv')\n",
    "data_mapped = raw_data.copy() \n",
    "data_mapped['stabf'] = data_mapped['stabf'].map({'unstable': 0, 'stable': 1})\n",
    "data_mapped = data_mapped.drop(labels = 'stab', axis = 1)\n",
    "data_mapped"
   ]
  },
  {
   "cell_type": "markdown",
   "id": "81e02171",
   "metadata": {},
   "source": [
    "## SPRAWDZENIE ISTOTNOŚĆI CECH POPRZEZ REGRESJĘ"
   ]
  },
  {
   "cell_type": "code",
   "execution_count": 3,
   "id": "7e63c6c4",
   "metadata": {},
   "outputs": [
    {
     "name": "stdout",
     "output_type": "stream",
     "text": [
      "Optimization terminated successfully.\n",
      "         Current function value: 0.389262\n",
      "         Iterations 7\n"
     ]
    },
    {
     "name": "stderr",
     "output_type": "stream",
     "text": [
      "D:\\Programy\\Anaconda\\lib\\site-packages\\statsmodels\\tsa\\tsatools.py:142: FutureWarning: In a future version of pandas all arguments of concat except for the argument 'objs' will be keyword-only.\n",
      "  x = pd.concat(x[::order], 1)\n"
     ]
    },
    {
     "data": {
      "text/html": [
       "<table class=\"simpletable\">\n",
       "<caption>Logit Regression Results</caption>\n",
       "<tr>\n",
       "  <th>Dep. Variable:</th>         <td>stabf</td>      <th>  No. Observations:  </th>  <td>  7000</td> \n",
       "</tr>\n",
       "<tr>\n",
       "  <th>Model:</th>                 <td>Logit</td>      <th>  Df Residuals:      </th>  <td>  6988</td> \n",
       "</tr>\n",
       "<tr>\n",
       "  <th>Method:</th>                 <td>MLE</td>       <th>  Df Model:          </th>  <td>    11</td> \n",
       "</tr>\n",
       "<tr>\n",
       "  <th>Date:</th>            <td>Thu, 19 Jan 2023</td> <th>  Pseudo R-squ.:     </th>  <td>0.4071</td> \n",
       "</tr>\n",
       "<tr>\n",
       "  <th>Time:</th>                <td>19:54:10</td>     <th>  Log-Likelihood:    </th> <td> -2724.8</td>\n",
       "</tr>\n",
       "<tr>\n",
       "  <th>converged:</th>             <td>True</td>       <th>  LL-Null:           </th> <td> -4595.9</td>\n",
       "</tr>\n",
       "<tr>\n",
       "  <th>Covariance Type:</th>     <td>nonrobust</td>    <th>  LLR p-value:       </th>  <td> 0.000</td> \n",
       "</tr>\n",
       "</table>\n",
       "<table class=\"simpletable\">\n",
       "<tr>\n",
       "      <td></td>         <th>coef</th>     <th>std err</th>      <th>z</th>      <th>P>|z|</th>  <th>[0.025</th>    <th>0.975]</th>  \n",
       "</tr>\n",
       "<tr>\n",
       "  <th>intercept</th> <td>   11.9234</td> <td>    0.340</td> <td>   35.085</td> <td> 0.000</td> <td>   11.257</td> <td>   12.589</td>\n",
       "</tr>\n",
       "<tr>\n",
       "  <th>tau1</th>      <td>   -0.3174</td> <td>    0.014</td> <td>  -23.381</td> <td> 0.000</td> <td>   -0.344</td> <td>   -0.291</td>\n",
       "</tr>\n",
       "<tr>\n",
       "  <th>tau2</th>      <td>   -0.3231</td> <td>    0.014</td> <td>  -23.738</td> <td> 0.000</td> <td>   -0.350</td> <td>   -0.296</td>\n",
       "</tr>\n",
       "<tr>\n",
       "  <th>tau3</th>      <td>   -0.3267</td> <td>    0.014</td> <td>  -23.924</td> <td> 0.000</td> <td>   -0.354</td> <td>   -0.300</td>\n",
       "</tr>\n",
       "<tr>\n",
       "  <th>tau4</th>      <td>   -0.3370</td> <td>    0.014</td> <td>  -24.445</td> <td> 0.000</td> <td>   -0.364</td> <td>   -0.310</td>\n",
       "</tr>\n",
       "<tr>\n",
       "  <th>p2</th>        <td>    0.0563</td> <td>    0.078</td> <td>    0.719</td> <td> 0.472</td> <td>   -0.097</td> <td>    0.210</td>\n",
       "</tr>\n",
       "<tr>\n",
       "  <th>p3</th>        <td>   -0.1313</td> <td>    0.078</td> <td>   -1.675</td> <td> 0.094</td> <td>   -0.285</td> <td>    0.022</td>\n",
       "</tr>\n",
       "<tr>\n",
       "  <th>p4</th>        <td>    0.1204</td> <td>    0.078</td> <td>    1.549</td> <td> 0.121</td> <td>   -0.032</td> <td>    0.273</td>\n",
       "</tr>\n",
       "<tr>\n",
       "  <th>g1</th>        <td>   -2.7363</td> <td>    0.134</td> <td>  -20.470</td> <td> 0.000</td> <td>   -2.998</td> <td>   -2.474</td>\n",
       "</tr>\n",
       "<tr>\n",
       "  <th>g2</th>        <td>   -2.9151</td> <td>    0.135</td> <td>  -21.648</td> <td> 0.000</td> <td>   -3.179</td> <td>   -2.651</td>\n",
       "</tr>\n",
       "<tr>\n",
       "  <th>g3</th>        <td>   -2.9734</td> <td>    0.135</td> <td>  -21.987</td> <td> 0.000</td> <td>   -3.238</td> <td>   -2.708</td>\n",
       "</tr>\n",
       "<tr>\n",
       "  <th>g4</th>        <td>   -2.8859</td> <td>    0.133</td> <td>  -21.619</td> <td> 0.000</td> <td>   -3.148</td> <td>   -2.624</td>\n",
       "</tr>\n",
       "</table>"
      ],
      "text/plain": [
       "<class 'statsmodels.iolib.summary.Summary'>\n",
       "\"\"\"\n",
       "                           Logit Regression Results                           \n",
       "==============================================================================\n",
       "Dep. Variable:                  stabf   No. Observations:                 7000\n",
       "Model:                          Logit   Df Residuals:                     6988\n",
       "Method:                           MLE   Df Model:                           11\n",
       "Date:                Thu, 19 Jan 2023   Pseudo R-squ.:                  0.4071\n",
       "Time:                        19:54:10   Log-Likelihood:                -2724.8\n",
       "converged:                       True   LL-Null:                       -4595.9\n",
       "Covariance Type:            nonrobust   LLR p-value:                     0.000\n",
       "==============================================================================\n",
       "                 coef    std err          z      P>|z|      [0.025      0.975]\n",
       "------------------------------------------------------------------------------\n",
       "intercept     11.9234      0.340     35.085      0.000      11.257      12.589\n",
       "tau1          -0.3174      0.014    -23.381      0.000      -0.344      -0.291\n",
       "tau2          -0.3231      0.014    -23.738      0.000      -0.350      -0.296\n",
       "tau3          -0.3267      0.014    -23.924      0.000      -0.354      -0.300\n",
       "tau4          -0.3370      0.014    -24.445      0.000      -0.364      -0.310\n",
       "p2             0.0563      0.078      0.719      0.472      -0.097       0.210\n",
       "p3            -0.1313      0.078     -1.675      0.094      -0.285       0.022\n",
       "p4             0.1204      0.078      1.549      0.121      -0.032       0.273\n",
       "g1            -2.7363      0.134    -20.470      0.000      -2.998      -2.474\n",
       "g2            -2.9151      0.135    -21.648      0.000      -3.179      -2.651\n",
       "g3            -2.9734      0.135    -21.987      0.000      -3.238      -2.708\n",
       "g4            -2.8859      0.133    -21.619      0.000      -3.148      -2.624\n",
       "==============================================================================\n",
       "\"\"\""
      ]
     },
     "execution_count": 3,
     "metadata": {},
     "output_type": "execute_result"
    }
   ],
   "source": [
    "data_temp = data_mapped.copy()\n",
    "data_temp = data_temp.drop(['p1'], axis=1)\n",
    "features_name = ['intercept','tau1', 'tau2', 'tau3', 'tau4','p2','p3','p4', 'g1', 'g2',\n",
    "'g3', 'g4'] \n",
    "X = data_temp.drop('stabf', axis = 1)\n",
    "y = data_temp['stabf']\n",
    "X_train, X_test, y_train, y_test = train_test_split(X, y, test_size=0.3, random_state=42)\n",
    "x_1 = sm.add_constant(X_train)\n",
    "reg_log_1 = sm.Logit(y_train, x_1)\n",
    "results_log_1 = reg_log_1.fit()\n",
    "results_log_1.summary(xname = features_name)"
   ]
  },
  {
   "cell_type": "markdown",
   "id": "147da3ca",
   "metadata": {},
   "source": [
    "##### W pracy zadziała się magia w intercepcie, najprawdopdobniej nie umiem przepisywać liczb :)"
   ]
  },
  {
   "cell_type": "code",
   "execution_count": 4,
   "id": "a0e8ea8e",
   "metadata": {},
   "outputs": [
    {
     "data": {
      "text/plain": [
       "const    1.136714e-269\n",
       "tau1     6.676004e-121\n",
       "tau2     1.451483e-124\n",
       "tau3     1.725659e-126\n",
       "tau4     5.638742e-132\n",
       "p2        4.720577e-01\n",
       "p3        9.399546e-02\n",
       "p4        1.214305e-01\n",
       "g1        3.945734e-93\n",
       "g2       6.348126e-104\n",
       "g3       3.807494e-107\n",
       "g4       1.200307e-103\n",
       "Name: P>|z|, dtype: float64"
      ]
     },
     "execution_count": 4,
     "metadata": {},
     "output_type": "execute_result"
    }
   ],
   "source": [
    "p_values = results_log_1.summary2().tables[1]['P>|z|']\n",
    "p_values "
   ]
  },
  {
   "cell_type": "markdown",
   "id": "c33d3065",
   "metadata": {},
   "source": [
    "# USUWANIE MOCY"
   ]
  },
  {
   "cell_type": "code",
   "execution_count": 5,
   "id": "4e1f951a",
   "metadata": {},
   "outputs": [
    {
     "data": {
      "text/html": [
       "<div>\n",
       "<style scoped>\n",
       "    .dataframe tbody tr th:only-of-type {\n",
       "        vertical-align: middle;\n",
       "    }\n",
       "\n",
       "    .dataframe tbody tr th {\n",
       "        vertical-align: top;\n",
       "    }\n",
       "\n",
       "    .dataframe thead th {\n",
       "        text-align: right;\n",
       "    }\n",
       "</style>\n",
       "<table border=\"1\" class=\"dataframe\">\n",
       "  <thead>\n",
       "    <tr style=\"text-align: right;\">\n",
       "      <th></th>\n",
       "      <th>tau1</th>\n",
       "      <th>tau2</th>\n",
       "      <th>tau3</th>\n",
       "      <th>tau4</th>\n",
       "      <th>g1</th>\n",
       "      <th>g2</th>\n",
       "      <th>g3</th>\n",
       "      <th>g4</th>\n",
       "      <th>stabf</th>\n",
       "    </tr>\n",
       "  </thead>\n",
       "  <tbody>\n",
       "    <tr>\n",
       "      <th>0</th>\n",
       "      <td>2.959060</td>\n",
       "      <td>3.079885</td>\n",
       "      <td>8.381025</td>\n",
       "      <td>9.780754</td>\n",
       "      <td>0.650456</td>\n",
       "      <td>0.859578</td>\n",
       "      <td>0.887445</td>\n",
       "      <td>0.958034</td>\n",
       "      <td>0</td>\n",
       "    </tr>\n",
       "    <tr>\n",
       "      <th>1</th>\n",
       "      <td>9.304097</td>\n",
       "      <td>4.902524</td>\n",
       "      <td>3.047541</td>\n",
       "      <td>1.369357</td>\n",
       "      <td>0.413441</td>\n",
       "      <td>0.862414</td>\n",
       "      <td>0.562139</td>\n",
       "      <td>0.781760</td>\n",
       "      <td>1</td>\n",
       "    </tr>\n",
       "    <tr>\n",
       "      <th>2</th>\n",
       "      <td>8.971707</td>\n",
       "      <td>8.848428</td>\n",
       "      <td>3.046479</td>\n",
       "      <td>1.214518</td>\n",
       "      <td>0.163041</td>\n",
       "      <td>0.766689</td>\n",
       "      <td>0.839444</td>\n",
       "      <td>0.109853</td>\n",
       "      <td>0</td>\n",
       "    </tr>\n",
       "    <tr>\n",
       "      <th>3</th>\n",
       "      <td>0.716415</td>\n",
       "      <td>7.669600</td>\n",
       "      <td>4.486641</td>\n",
       "      <td>2.340563</td>\n",
       "      <td>0.446209</td>\n",
       "      <td>0.976744</td>\n",
       "      <td>0.929381</td>\n",
       "      <td>0.362718</td>\n",
       "      <td>0</td>\n",
       "    </tr>\n",
       "    <tr>\n",
       "      <th>4</th>\n",
       "      <td>3.134112</td>\n",
       "      <td>7.608772</td>\n",
       "      <td>4.943759</td>\n",
       "      <td>9.857573</td>\n",
       "      <td>0.797110</td>\n",
       "      <td>0.455450</td>\n",
       "      <td>0.656947</td>\n",
       "      <td>0.820923</td>\n",
       "      <td>0</td>\n",
       "    </tr>\n",
       "    <tr>\n",
       "      <th>...</th>\n",
       "      <td>...</td>\n",
       "      <td>...</td>\n",
       "      <td>...</td>\n",
       "      <td>...</td>\n",
       "      <td>...</td>\n",
       "      <td>...</td>\n",
       "      <td>...</td>\n",
       "      <td>...</td>\n",
       "      <td>...</td>\n",
       "    </tr>\n",
       "    <tr>\n",
       "      <th>9995</th>\n",
       "      <td>2.930406</td>\n",
       "      <td>9.487627</td>\n",
       "      <td>2.376523</td>\n",
       "      <td>6.187797</td>\n",
       "      <td>0.601709</td>\n",
       "      <td>0.779642</td>\n",
       "      <td>0.813512</td>\n",
       "      <td>0.608385</td>\n",
       "      <td>0</td>\n",
       "    </tr>\n",
       "    <tr>\n",
       "      <th>9996</th>\n",
       "      <td>3.392299</td>\n",
       "      <td>1.274827</td>\n",
       "      <td>2.954947</td>\n",
       "      <td>6.894759</td>\n",
       "      <td>0.502079</td>\n",
       "      <td>0.567242</td>\n",
       "      <td>0.285880</td>\n",
       "      <td>0.366120</td>\n",
       "      <td>1</td>\n",
       "    </tr>\n",
       "    <tr>\n",
       "      <th>9997</th>\n",
       "      <td>2.364034</td>\n",
       "      <td>2.842030</td>\n",
       "      <td>8.776391</td>\n",
       "      <td>1.008906</td>\n",
       "      <td>0.487838</td>\n",
       "      <td>0.986505</td>\n",
       "      <td>0.149286</td>\n",
       "      <td>0.145984</td>\n",
       "      <td>1</td>\n",
       "    </tr>\n",
       "    <tr>\n",
       "      <th>9998</th>\n",
       "      <td>9.631511</td>\n",
       "      <td>3.994398</td>\n",
       "      <td>2.757071</td>\n",
       "      <td>7.821347</td>\n",
       "      <td>0.365246</td>\n",
       "      <td>0.587558</td>\n",
       "      <td>0.889118</td>\n",
       "      <td>0.818391</td>\n",
       "      <td>0</td>\n",
       "    </tr>\n",
       "    <tr>\n",
       "      <th>9999</th>\n",
       "      <td>6.530527</td>\n",
       "      <td>6.781790</td>\n",
       "      <td>4.349695</td>\n",
       "      <td>8.673138</td>\n",
       "      <td>0.073056</td>\n",
       "      <td>0.505441</td>\n",
       "      <td>0.378761</td>\n",
       "      <td>0.942631</td>\n",
       "      <td>0</td>\n",
       "    </tr>\n",
       "  </tbody>\n",
       "</table>\n",
       "<p>10000 rows × 9 columns</p>\n",
       "</div>"
      ],
      "text/plain": [
       "          tau1      tau2      tau3      tau4        g1        g2        g3  \\\n",
       "0     2.959060  3.079885  8.381025  9.780754  0.650456  0.859578  0.887445   \n",
       "1     9.304097  4.902524  3.047541  1.369357  0.413441  0.862414  0.562139   \n",
       "2     8.971707  8.848428  3.046479  1.214518  0.163041  0.766689  0.839444   \n",
       "3     0.716415  7.669600  4.486641  2.340563  0.446209  0.976744  0.929381   \n",
       "4     3.134112  7.608772  4.943759  9.857573  0.797110  0.455450  0.656947   \n",
       "...        ...       ...       ...       ...       ...       ...       ...   \n",
       "9995  2.930406  9.487627  2.376523  6.187797  0.601709  0.779642  0.813512   \n",
       "9996  3.392299  1.274827  2.954947  6.894759  0.502079  0.567242  0.285880   \n",
       "9997  2.364034  2.842030  8.776391  1.008906  0.487838  0.986505  0.149286   \n",
       "9998  9.631511  3.994398  2.757071  7.821347  0.365246  0.587558  0.889118   \n",
       "9999  6.530527  6.781790  4.349695  8.673138  0.073056  0.505441  0.378761   \n",
       "\n",
       "            g4  stabf  \n",
       "0     0.958034      0  \n",
       "1     0.781760      1  \n",
       "2     0.109853      0  \n",
       "3     0.362718      0  \n",
       "4     0.820923      0  \n",
       "...        ...    ...  \n",
       "9995  0.608385      0  \n",
       "9996  0.366120      1  \n",
       "9997  0.145984      1  \n",
       "9998  0.818391      0  \n",
       "9999  0.942631      0  \n",
       "\n",
       "[10000 rows x 9 columns]"
      ]
     },
     "execution_count": 5,
     "metadata": {},
     "output_type": "execute_result"
    }
   ],
   "source": [
    "data_with_p1 = data_mapped.copy()\n",
    "data_without_p1 = data_with_p1.drop(['p1', 'p2', 'p3', 'p4'], axis=1)\n",
    "data_without_p1"
   ]
  },
  {
   "cell_type": "markdown",
   "id": "b97867ac",
   "metadata": {},
   "source": [
    "# REGRESJA LOGISTYCZNA"
   ]
  },
  {
   "cell_type": "markdown",
   "id": "95053cf9",
   "metadata": {},
   "source": [
    "W tej sekcji przeprowadzenie regresji logistycznej służy znalezieniu najbardziej istotnej cechy. Do wyznaczenia cechy wykorzystane będzie p value."
   ]
  },
  {
   "cell_type": "code",
   "execution_count": 6,
   "id": "be6d8c7b",
   "metadata": {},
   "outputs": [
    {
     "name": "stdout",
     "output_type": "stream",
     "text": [
      "Optimization terminated successfully.\n",
      "         Current function value: 0.389658\n",
      "         Iterations 7\n"
     ]
    },
    {
     "name": "stderr",
     "output_type": "stream",
     "text": [
      "D:\\Programy\\Anaconda\\lib\\site-packages\\statsmodels\\tsa\\tsatools.py:142: FutureWarning: In a future version of pandas all arguments of concat except for the argument 'objs' will be keyword-only.\n",
      "  x = pd.concat(x[::order], 1)\n"
     ]
    },
    {
     "data": {
      "text/html": [
       "<table class=\"simpletable\">\n",
       "<caption>Logit Regression Results</caption>\n",
       "<tr>\n",
       "  <th>Dep. Variable:</th>         <td>stabf</td>      <th>  No. Observations:  </th>  <td>  7000</td> \n",
       "</tr>\n",
       "<tr>\n",
       "  <th>Model:</th>                 <td>Logit</td>      <th>  Df Residuals:      </th>  <td>  6991</td> \n",
       "</tr>\n",
       "<tr>\n",
       "  <th>Method:</th>                 <td>MLE</td>       <th>  Df Model:          </th>  <td>     8</td> \n",
       "</tr>\n",
       "<tr>\n",
       "  <th>Date:</th>            <td>Thu, 19 Jan 2023</td> <th>  Pseudo R-squ.:     </th>  <td>0.4065</td> \n",
       "</tr>\n",
       "<tr>\n",
       "  <th>Time:</th>                <td>19:54:10</td>     <th>  Log-Likelihood:    </th> <td> -2727.6</td>\n",
       "</tr>\n",
       "<tr>\n",
       "  <th>converged:</th>             <td>True</td>       <th>  LL-Null:           </th> <td> -4595.9</td>\n",
       "</tr>\n",
       "<tr>\n",
       "  <th>Covariance Type:</th>     <td>nonrobust</td>    <th>  LLR p-value:       </th>  <td> 0.000</td> \n",
       "</tr>\n",
       "</table>\n",
       "<table class=\"simpletable\">\n",
       "<tr>\n",
       "      <td></td>         <th>coef</th>     <th>std err</th>      <th>z</th>      <th>P>|z|</th>  <th>[0.025</th>    <th>0.975]</th>  \n",
       "</tr>\n",
       "<tr>\n",
       "  <th>intercept</th> <td>   11.8535</td> <td>    0.298</td> <td>   39.831</td> <td> 0.000</td> <td>   11.270</td> <td>   12.437</td>\n",
       "</tr>\n",
       "<tr>\n",
       "  <th>tau1</th>      <td>   -0.3165</td> <td>    0.014</td> <td>  -23.365</td> <td> 0.000</td> <td>   -0.343</td> <td>   -0.290</td>\n",
       "</tr>\n",
       "<tr>\n",
       "  <th>tau2</th>      <td>   -0.3230</td> <td>    0.014</td> <td>  -23.742</td> <td> 0.000</td> <td>   -0.350</td> <td>   -0.296</td>\n",
       "</tr>\n",
       "<tr>\n",
       "  <th>tau3</th>      <td>   -0.3266</td> <td>    0.014</td> <td>  -23.953</td> <td> 0.000</td> <td>   -0.353</td> <td>   -0.300</td>\n",
       "</tr>\n",
       "<tr>\n",
       "  <th>tau4</th>      <td>   -0.3368</td> <td>    0.014</td> <td>  -24.444</td> <td> 0.000</td> <td>   -0.364</td> <td>   -0.310</td>\n",
       "</tr>\n",
       "<tr>\n",
       "  <th>g1</th>        <td>   -2.7407</td> <td>    0.134</td> <td>  -20.507</td> <td> 0.000</td> <td>   -3.003</td> <td>   -2.479</td>\n",
       "</tr>\n",
       "<tr>\n",
       "  <th>g2</th>        <td>   -2.9115</td> <td>    0.135</td> <td>  -21.641</td> <td> 0.000</td> <td>   -3.175</td> <td>   -2.648</td>\n",
       "</tr>\n",
       "<tr>\n",
       "  <th>g3</th>        <td>   -2.9667</td> <td>    0.135</td> <td>  -21.967</td> <td> 0.000</td> <td>   -3.231</td> <td>   -2.702</td>\n",
       "</tr>\n",
       "<tr>\n",
       "  <th>g4</th>        <td>   -2.8777</td> <td>    0.133</td> <td>  -21.588</td> <td> 0.000</td> <td>   -3.139</td> <td>   -2.616</td>\n",
       "</tr>\n",
       "</table>"
      ],
      "text/plain": [
       "<class 'statsmodels.iolib.summary.Summary'>\n",
       "\"\"\"\n",
       "                           Logit Regression Results                           \n",
       "==============================================================================\n",
       "Dep. Variable:                  stabf   No. Observations:                 7000\n",
       "Model:                          Logit   Df Residuals:                     6991\n",
       "Method:                           MLE   Df Model:                            8\n",
       "Date:                Thu, 19 Jan 2023   Pseudo R-squ.:                  0.4065\n",
       "Time:                        19:54:10   Log-Likelihood:                -2727.6\n",
       "converged:                       True   LL-Null:                       -4595.9\n",
       "Covariance Type:            nonrobust   LLR p-value:                     0.000\n",
       "==============================================================================\n",
       "                 coef    std err          z      P>|z|      [0.025      0.975]\n",
       "------------------------------------------------------------------------------\n",
       "intercept     11.8535      0.298     39.831      0.000      11.270      12.437\n",
       "tau1          -0.3165      0.014    -23.365      0.000      -0.343      -0.290\n",
       "tau2          -0.3230      0.014    -23.742      0.000      -0.350      -0.296\n",
       "tau3          -0.3266      0.014    -23.953      0.000      -0.353      -0.300\n",
       "tau4          -0.3368      0.014    -24.444      0.000      -0.364      -0.310\n",
       "g1            -2.7407      0.134    -20.507      0.000      -3.003      -2.479\n",
       "g2            -2.9115      0.135    -21.641      0.000      -3.175      -2.648\n",
       "g3            -2.9667      0.135    -21.967      0.000      -3.231      -2.702\n",
       "g4            -2.8777      0.133    -21.588      0.000      -3.139      -2.616\n",
       "==============================================================================\n",
       "\"\"\""
      ]
     },
     "execution_count": 6,
     "metadata": {},
     "output_type": "execute_result"
    }
   ],
   "source": [
    "from sklearn.model_selection import train_test_split\n",
    "\n",
    "data = data_without_p1.copy()\n",
    "features_name = ['intercept','tau1', 'tau2', 'tau3', 'tau4', 'g1', 'g2',\n",
    "'g3', 'g4'] \n",
    "X = data.drop('stabf', axis = 1)\n",
    "y = data['stabf']\n",
    "X_train, X_test, y_train, y_test = train_test_split(X, y, test_size=0.3, random_state=42)\n",
    "\n",
    "\n",
    "from sklearn.preprocessing import StandardScaler\n",
    "scaler = StandardScaler()\n",
    "X_train_scaled = scaler.fit_transform(X_train)\n",
    "X_test_scaled = scaler.fit_transform(X_test)\n",
    "x_1 = sm.add_constant(X_train)\n",
    "reg_log_1 = sm.Logit(y_train, x_1)\n",
    "results_log_1 = reg_log_1.fit(method = 'newton')\n",
    "results_log_1.summary(xname = features_name)"
   ]
  },
  {
   "cell_type": "code",
   "execution_count": 7,
   "id": "d1e29a56",
   "metadata": {
    "scrolled": true
   },
   "outputs": [
    {
     "name": "stdout",
     "output_type": "stream",
     "text": [
      "Optimization terminated successfully.\n",
      "         Current function value: 0.389658\n",
      "         Iterations 7\n"
     ]
    },
    {
     "name": "stderr",
     "output_type": "stream",
     "text": [
      "D:\\Programy\\Anaconda\\lib\\site-packages\\statsmodels\\tsa\\tsatools.py:142: FutureWarning: In a future version of pandas all arguments of concat except for the argument 'objs' will be keyword-only.\n",
      "  x = pd.concat(x[::order], 1)\n"
     ]
    },
    {
     "data": {
      "text/html": [
       "<table class=\"simpletable\">\n",
       "<caption>Logit Regression Results</caption>\n",
       "<tr>\n",
       "  <th>Dep. Variable:</th>         <td>stabf</td>      <th>  No. Observations:  </th>  <td>  7000</td> \n",
       "</tr>\n",
       "<tr>\n",
       "  <th>Model:</th>                 <td>Logit</td>      <th>  Df Residuals:      </th>  <td>  6991</td> \n",
       "</tr>\n",
       "<tr>\n",
       "  <th>Method:</th>                 <td>MLE</td>       <th>  Df Model:          </th>  <td>     8</td> \n",
       "</tr>\n",
       "<tr>\n",
       "  <th>Date:</th>            <td>Thu, 19 Jan 2023</td> <th>  Pseudo R-squ.:     </th>  <td>0.4065</td> \n",
       "</tr>\n",
       "<tr>\n",
       "  <th>Time:</th>                <td>19:54:10</td>     <th>  Log-Likelihood:    </th> <td> -2727.6</td>\n",
       "</tr>\n",
       "<tr>\n",
       "  <th>converged:</th>             <td>True</td>       <th>  LL-Null:           </th> <td> -4595.9</td>\n",
       "</tr>\n",
       "<tr>\n",
       "  <th>Covariance Type:</th>     <td>nonrobust</td>    <th>  LLR p-value:       </th>  <td> 0.000</td> \n",
       "</tr>\n",
       "</table>\n",
       "<table class=\"simpletable\">\n",
       "<tr>\n",
       "      <td></td>         <th>coef</th>     <th>std err</th>      <th>z</th>      <th>P>|z|</th>  <th>[0.025</th>    <th>0.975]</th>  \n",
       "</tr>\n",
       "<tr>\n",
       "  <th>intercept</th> <td>   11.8535</td> <td>    0.298</td> <td>   39.831</td> <td> 0.000</td> <td>   11.270</td> <td>   12.437</td>\n",
       "</tr>\n",
       "<tr>\n",
       "  <th>tau1</th>      <td>   -0.3165</td> <td>    0.014</td> <td>  -23.365</td> <td> 0.000</td> <td>   -0.343</td> <td>   -0.290</td>\n",
       "</tr>\n",
       "<tr>\n",
       "  <th>tau2</th>      <td>   -0.3230</td> <td>    0.014</td> <td>  -23.742</td> <td> 0.000</td> <td>   -0.350</td> <td>   -0.296</td>\n",
       "</tr>\n",
       "<tr>\n",
       "  <th>tau3</th>      <td>   -0.3266</td> <td>    0.014</td> <td>  -23.953</td> <td> 0.000</td> <td>   -0.353</td> <td>   -0.300</td>\n",
       "</tr>\n",
       "<tr>\n",
       "  <th>tau4</th>      <td>   -0.3368</td> <td>    0.014</td> <td>  -24.444</td> <td> 0.000</td> <td>   -0.364</td> <td>   -0.310</td>\n",
       "</tr>\n",
       "<tr>\n",
       "  <th>g1</th>        <td>   -2.7407</td> <td>    0.134</td> <td>  -20.507</td> <td> 0.000</td> <td>   -3.003</td> <td>   -2.479</td>\n",
       "</tr>\n",
       "<tr>\n",
       "  <th>g2</th>        <td>   -2.9115</td> <td>    0.135</td> <td>  -21.641</td> <td> 0.000</td> <td>   -3.175</td> <td>   -2.648</td>\n",
       "</tr>\n",
       "<tr>\n",
       "  <th>g3</th>        <td>   -2.9667</td> <td>    0.135</td> <td>  -21.967</td> <td> 0.000</td> <td>   -3.231</td> <td>   -2.702</td>\n",
       "</tr>\n",
       "<tr>\n",
       "  <th>g4</th>        <td>   -2.8777</td> <td>    0.133</td> <td>  -21.588</td> <td> 0.000</td> <td>   -3.139</td> <td>   -2.616</td>\n",
       "</tr>\n",
       "</table>"
      ],
      "text/plain": [
       "<class 'statsmodels.iolib.summary.Summary'>\n",
       "\"\"\"\n",
       "                           Logit Regression Results                           \n",
       "==============================================================================\n",
       "Dep. Variable:                  stabf   No. Observations:                 7000\n",
       "Model:                          Logit   Df Residuals:                     6991\n",
       "Method:                           MLE   Df Model:                            8\n",
       "Date:                Thu, 19 Jan 2023   Pseudo R-squ.:                  0.4065\n",
       "Time:                        19:54:10   Log-Likelihood:                -2727.6\n",
       "converged:                       True   LL-Null:                       -4595.9\n",
       "Covariance Type:            nonrobust   LLR p-value:                     0.000\n",
       "==============================================================================\n",
       "                 coef    std err          z      P>|z|      [0.025      0.975]\n",
       "------------------------------------------------------------------------------\n",
       "intercept     11.8535      0.298     39.831      0.000      11.270      12.437\n",
       "tau1          -0.3165      0.014    -23.365      0.000      -0.343      -0.290\n",
       "tau2          -0.3230      0.014    -23.742      0.000      -0.350      -0.296\n",
       "tau3          -0.3266      0.014    -23.953      0.000      -0.353      -0.300\n",
       "tau4          -0.3368      0.014    -24.444      0.000      -0.364      -0.310\n",
       "g1            -2.7407      0.134    -20.507      0.000      -3.003      -2.479\n",
       "g2            -2.9115      0.135    -21.641      0.000      -3.175      -2.648\n",
       "g3            -2.9667      0.135    -21.967      0.000      -3.231      -2.702\n",
       "g4            -2.8777      0.133    -21.588      0.000      -3.139      -2.616\n",
       "==============================================================================\n",
       "\"\"\""
      ]
     },
     "execution_count": 7,
     "metadata": {},
     "output_type": "execute_result"
    }
   ],
   "source": [
    "from sklearn.model_selection import train_test_split\n",
    "\n",
    "data = data_without_p1.copy()\n",
    "features_name = ['intercept','tau1', 'tau2', 'tau3', 'tau4', 'g1', 'g2',\n",
    "'g3', 'g4'] \n",
    "X = data.drop('stabf', axis = 1)\n",
    "y = data['stabf']\n",
    "X_train, X_test, y_train, y_test = train_test_split(X, y, test_size=0.3, random_state=42)\n",
    "\n",
    "\n",
    "from sklearn.preprocessing import StandardScaler\n",
    "scaler = StandardScaler()\n",
    "X_train_scaled = scaler.fit_transform(X_train)\n",
    "X_test_scaled = scaler.fit_transform(X_test)\n",
    "x_1 = sm.add_constant(X_train)\n",
    "reg_log_1 = sm.Logit(y_train, x_1)\n",
    "results_log_1 = reg_log_1.fit()\n",
    "results_log_1.summary(xname = features_name)"
   ]
  },
  {
   "cell_type": "markdown",
   "id": "8e2be5a3",
   "metadata": {},
   "source": [
    "Poniżej zbadano wartości p value w celu wyznaczenia najbardziej istotnej statystycznie cechy."
   ]
  },
  {
   "cell_type": "code",
   "execution_count": 8,
   "id": "c6c86754",
   "metadata": {},
   "outputs": [
    {
     "data": {
      "text/plain": [
       "const     0.000000e+00\n",
       "tau1     9.741459e-121\n",
       "tau2     1.315438e-124\n",
       "tau3     8.684090e-127\n",
       "tau4     5.886738e-132\n",
       "g1        1.848387e-93\n",
       "g2       7.458429e-104\n",
       "g3       5.946537e-107\n",
       "g4       2.350984e-103\n",
       "Name: P>|z|, dtype: float64"
      ]
     },
     "execution_count": 8,
     "metadata": {},
     "output_type": "execute_result"
    }
   ],
   "source": [
    "p_values = results_log_1.summary2().tables[1]['P>|z|']\n",
    "p_values "
   ]
  },
  {
   "cell_type": "markdown",
   "id": "26ddc2ce",
   "metadata": {},
   "source": [
    "# MODEL Z TAU4"
   ]
  },
  {
   "cell_type": "markdown",
   "id": "9243b1fd",
   "metadata": {},
   "source": [
    "Wysoce istotną statystycznie cechą okazała się być cecha odnosząca się do czasu reakcji użytkownika czwartego na zmiany w sieci - tau4. Przy jej pomocy zbadano wartości częstości, wyznaczono funkcję prawdopoodbieństwa $\\pi_1$ oraz wyznaczono prawdopodobieństwa dla wybranych przykładów uczących w modelach Lasu Losowego oraz SVM."
   ]
  },
  {
   "cell_type": "markdown",
   "id": "2ca2dbfc",
   "metadata": {},
   "source": [
    "# CZĘSTOŚCI"
   ]
  },
  {
   "cell_type": "markdown",
   "id": "f201e010",
   "metadata": {},
   "source": [
    "Zbiór testowy podzielono na 35 przedziałów po 200 elementów w każdym. W każdym przedziale pobrano środkowy element i wyliczono częstość wystąpienia sieci stabilnej dla tego przedziału. Wyniki pokazano na wykresie."
   ]
  },
  {
   "cell_type": "code",
   "execution_count": 9,
   "id": "d222229c",
   "metadata": {},
   "outputs": [],
   "source": [
    "X = data['tau4']\n",
    "y = data['stabf']\n",
    "\n",
    "X_train, X_test, y_train, y_test = train_test_split(X, y, test_size=0.3, random_state=42)\n",
    "\n",
    "data_train = pd.concat([X_train, y_train], axis=1)\n",
    "data_train = data_train.sort_values('tau4')\n",
    "splitedSize = 200\n",
    "data_train_splited = [data_train[x:x+splitedSize] for x in range(0, len(data_train), splitedSize)]\n",
    "\n",
    "freq  = []\n",
    "for elem in data_train_splited:\n",
    "    freq.append(elem['stabf'].value_counts(normalize=True)[1])\n"
   ]
  },
  {
   "cell_type": "code",
   "execution_count": 10,
   "id": "45108d9e",
   "metadata": {},
   "outputs": [
    {
     "data": {
      "image/png": "[encoded data removed]",
      "text/plain": [
       "<Figure size 432x288 with 1 Axes>"
      ]
     },
     "metadata": {},
     "output_type": "display_data"
    }
   ],
   "source": [
    "data_train_splited[1].iloc[100]['tau4']\n",
    "\n",
    "middle_tau4 = []\n",
    "middle_y = []\n",
    "for i in range(len(data_train_splited)):\n",
    "    middle_tau4.append(data_train_splited[i].iloc[splitedSize//2]['tau4'])\n",
    "    middle_y.append(data_train_splited[i].iloc[splitedSize//2]['stabf'])\n",
    "\n",
    "plt.plot(middle_tau4, freq, 'ro')\n",
    "plt.legend(['CZĘSTOŚCI'])\n",
    "plt.savefig(\"CZĘSTOŚCI.jpg\")"
   ]
  },
  {
   "cell_type": "markdown",
   "id": "6e2d3bb1",
   "metadata": {},
   "source": [
    "# LOGIT"
   ]
  },
  {
   "cell_type": "markdown",
   "id": "1b3ad44f",
   "metadata": {},
   "source": [
    "W tej sekcji przeprowadzono regresję logistyczną dla atrybutu tau4. W tych samych puntkach, co dla częstości wyznaczono prawdopodobieństwa według wzoru:\n",
    "$$\n",
    "\\pi_1 = \\frac{e^{\\beta_0+\\beta_1x}}{1 + e^{\\beta_0+\\beta_1x}}\n",
    "$$"
   ]
  },
  {
   "cell_type": "code",
   "execution_count": 11,
   "id": "28bef953",
   "metadata": {},
   "outputs": [
    {
     "name": "stdout",
     "output_type": "stream",
     "text": [
      "Optimization terminated successfully.\n",
      "         Current function value: 0.626776\n",
      "         Iterations 5\n"
     ]
    },
    {
     "name": "stderr",
     "output_type": "stream",
     "text": [
      "D:\\Programy\\Anaconda\\lib\\site-packages\\statsmodels\\tsa\\tsatools.py:142: FutureWarning: In a future version of pandas all arguments of concat except for the argument 'objs' will be keyword-only.\n",
      "  x = pd.concat(x[::order], 1)\n"
     ]
    },
    {
     "data": {
      "text/html": [
       "<table class=\"simpletable\">\n",
       "<caption>Logit Regression Results</caption>\n",
       "<tr>\n",
       "  <th>Dep. Variable:</th>         <td>stabf</td>      <th>  No. Observations:  </th>  <td>  7000</td>  \n",
       "</tr>\n",
       "<tr>\n",
       "  <th>Model:</th>                 <td>Logit</td>      <th>  Df Residuals:      </th>  <td>  6998</td>  \n",
       "</tr>\n",
       "<tr>\n",
       "  <th>Method:</th>                 <td>MLE</td>       <th>  Df Model:          </th>  <td>     1</td>  \n",
       "</tr>\n",
       "<tr>\n",
       "  <th>Date:</th>            <td>Thu, 19 Jan 2023</td> <th>  Pseudo R-squ.:     </th>  <td>0.04536</td> \n",
       "</tr>\n",
       "<tr>\n",
       "  <th>Time:</th>                <td>19:54:10</td>     <th>  Log-Likelihood:    </th> <td> -4387.4</td> \n",
       "</tr>\n",
       "<tr>\n",
       "  <th>converged:</th>             <td>True</td>       <th>  LL-Null:           </th> <td> -4595.9</td> \n",
       "</tr>\n",
       "<tr>\n",
       "  <th>Covariance Type:</th>     <td>nonrobust</td>    <th>  LLR p-value:       </th> <td>1.137e-92</td>\n",
       "</tr>\n",
       "</table>\n",
       "<table class=\"simpletable\">\n",
       "<tr>\n",
       "    <td></td>       <th>coef</th>     <th>std err</th>      <th>z</th>      <th>P>|z|</th>  <th>[0.025</th>    <th>0.975]</th>  \n",
       "</tr>\n",
       "<tr>\n",
       "  <th>const</th> <td>    0.4218</td> <td>    0.054</td> <td>    7.838</td> <td> 0.000</td> <td>    0.316</td> <td>    0.527</td>\n",
       "</tr>\n",
       "<tr>\n",
       "  <th>tau4</th>  <td>   -0.1907</td> <td>    0.010</td> <td>  -19.819</td> <td> 0.000</td> <td>   -0.210</td> <td>   -0.172</td>\n",
       "</tr>\n",
       "</table>"
      ],
      "text/plain": [
       "<class 'statsmodels.iolib.summary.Summary'>\n",
       "\"\"\"\n",
       "                           Logit Regression Results                           \n",
       "==============================================================================\n",
       "Dep. Variable:                  stabf   No. Observations:                 7000\n",
       "Model:                          Logit   Df Residuals:                     6998\n",
       "Method:                           MLE   Df Model:                            1\n",
       "Date:                Thu, 19 Jan 2023   Pseudo R-squ.:                 0.04536\n",
       "Time:                        19:54:10   Log-Likelihood:                -4387.4\n",
       "converged:                       True   LL-Null:                       -4595.9\n",
       "Covariance Type:            nonrobust   LLR p-value:                 1.137e-92\n",
       "==============================================================================\n",
       "                 coef    std err          z      P>|z|      [0.025      0.975]\n",
       "------------------------------------------------------------------------------\n",
       "const          0.4218      0.054      7.838      0.000       0.316       0.527\n",
       "tau4          -0.1907      0.010    -19.819      0.000      -0.210      -0.172\n",
       "==============================================================================\n",
       "\"\"\""
      ]
     },
     "execution_count": 11,
     "metadata": {},
     "output_type": "execute_result"
    }
   ],
   "source": [
    "x_1 = sm.add_constant(X_train)\n",
    "reg_log_1 = sm.Logit(y_train, x_1)\n",
    "results_log_1 = reg_log_1.fit()\n",
    "results_log_1.summary(xname = ['const','tau4'])"
   ]
  },
  {
   "cell_type": "code",
   "execution_count": 12,
   "id": "920904d2",
   "metadata": {},
   "outputs": [
    {
     "data": {
      "image/png": "[encoded data removed]",
      "text/plain": [
       "<Figure size 432x288 with 1 Axes>"
      ]
     },
     "metadata": {},
     "output_type": "display_data"
    }
   ],
   "source": [
    "b0 = 0.4218\n",
    "b1 = -0.1907\n",
    "\n",
    "\n",
    "pi_log = []\n",
    "for elem in middle_tau4:\n",
    "    pi_log.append(math.exp(b0 + b1*elem)/(1+math.exp(b0 + b1*elem)))\n",
    "    \n",
    "\n",
    "plt.plot(middle_tau4, pi_log, 'go' )\n",
    "plt.legend([\"LOGISTIC REGRESSION\"])\n",
    "plt.savefig(\"LOGISTIC REGRESSION\")"
   ]
  },
  {
   "cell_type": "code",
   "execution_count": 13,
   "id": "976031f2",
   "metadata": {},
   "outputs": [
    {
     "data": {
      "image/png": "[encoded data removed]",
      "text/plain": [
       "<Figure size 432x288 with 1 Axes>"
      ]
     },
     "metadata": {},
     "output_type": "display_data"
    }
   ],
   "source": [
    "x = np.linspace(0, 10, 200)\n",
    "fig = plt.figure() \n",
    "pi1 = np.exp(b0 + b1*x)/(1+np.exp(b0 + b1*x))\n",
    "plt.plot(x,pi1, 'g-')\n",
    "plt.savefig(\"CONT LOGISTIC REGRESSION\")"
   ]
  },
  {
   "cell_type": "markdown",
   "id": "2146357a",
   "metadata": {},
   "source": [
    "Funckja wydaje się być liniowa, jednak na szerszym zakresie pokrywa się z oczekiwanym kształtem."
   ]
  },
  {
   "cell_type": "code",
   "execution_count": 14,
   "id": "7bd89855",
   "metadata": {},
   "outputs": [
    {
     "data": {
      "image/png": "[encoded data removed]",
      "text/plain": [
       "<Figure size 432x288 with 1 Axes>"
      ]
     },
     "metadata": {},
     "output_type": "display_data"
    }
   ],
   "source": [
    "x = np.linspace(0, 100, 300)\n",
    "fig = plt.figure() \n",
    "pi1 = np.exp(b0 + b1*x)/(1+np.exp(b0 + b1*x))\n",
    "plt.plot(x, pi1, 'g-')\n",
    "plt.savefig(\"CONST BIG LOGISTIC REGRESSION\")"
   ]
  },
  {
   "cell_type": "markdown",
   "id": "8164430f",
   "metadata": {},
   "source": [
    "# LAS LOSOWY"
   ]
  },
  {
   "cell_type": "markdown",
   "id": "bbf46d0a",
   "metadata": {},
   "source": [
    "Analogiczną procedurę przeprowadzono dla lasu losowego. Na początku wyestymowano model dzięki narzędziu RandomizedSearchCV."
   ]
  },
  {
   "cell_type": "code",
   "execution_count": 15,
   "id": "004293f1",
   "metadata": {},
   "outputs": [],
   "source": [
    "# from sklearn.model_selection import RandomizedSearchCV\n",
    "# from sklearn.ensemble import RandomForestClassifier\n",
    "\n",
    "# max_depth = [int(x) for x in np.linspace(10, 110, 11)]\n",
    "# max_depth.append(None)\n",
    "\n",
    "# random_grid = {'n_estimators': [int(x) for x in np.linspace(200,2000,10)],\n",
    "#                'max_features':  ['auto', 'sqrt'],\n",
    "#                'max_depth': max_depth,\n",
    "#                'min_samples_split': [2, 5, 10],\n",
    "#                'min_samples_leaf': [1, 2, 4],\n",
    "#                'bootstrap': [True, False]}\n",
    "\n",
    "\n",
    "\n",
    "# middle_tau4 = np.array(middle_tau4)\n",
    "# rf = RandomForestClassifier()\n",
    "# rf_random = RandomizedSearchCV(estimator = rf, param_distributions = random_grid, n_iter = 100, cv = 3, verbose=2, random_state=42, n_jobs = -1)\n",
    "# rf_random.fit(middle_tau4.reshape(-1, 1), middle_y)\n",
    "# rf_random.best_params_"
   ]
  },
  {
   "cell_type": "code",
   "execution_count": 16,
   "id": "82586acf",
   "metadata": {},
   "outputs": [
    {
     "data": {
      "image/png": "[encoded data removed]",
      "text/plain": [
       "<Figure size 432x288 with 1 Axes>"
      ]
     },
     "metadata": {},
     "output_type": "display_data"
    }
   ],
   "source": [
    "from sklearn.ensemble import RandomForestClassifier\n",
    "clf_forest = RandomForestClassifier(n_estimators=1600,\n",
    "                                    min_samples_split = 2,\n",
    "                                    min_samples_leaf = 4,\n",
    "                                    max_features = 'sqrt',\n",
    "                                    max_depth =  10,\n",
    "                                    bootstrap = True,\n",
    "                                    random_state = 42)\n",
    "X_train = np.array(X_train)\n",
    "middle_tau4 = np.array(middle_tau4)\n",
    "clf_forest.fit(X_train.reshape(-1, 1), y_train)\n",
    "pi_forest = clf_forest.predict_proba(middle_tau4.reshape(-1, 1))[:, 1]\n",
    "plt.plot(middle_tau4, pi_forest, 'bo' )\n",
    "plt.legend([\"RANDOM FOREST\"])\n",
    "plt.savefig(\"RANDOM FOREST\")"
   ]
  },
  {
   "cell_type": "markdown",
   "id": "f3f9a3af",
   "metadata": {},
   "source": [
    "# SVM"
   ]
  },
  {
   "cell_type": "code",
   "execution_count": 17,
   "id": "f63886f2",
   "metadata": {},
   "outputs": [],
   "source": [
    "from sklearn.svm import SVC\n",
    "\n",
    "svm_clf = SVC(C= 1000, gamma= 0.01, kernel= 'rbf', random_state=42, probability = True)\n",
    "X_train = np.array(X_train)\n",
    "svm_clf.fit(X_train.reshape(-1,1), y_train)\n",
    "pi_svm = svm_clf.predict_proba(middle_tau4.reshape(-1, 1))[:, 1]\n"
   ]
  },
  {
   "cell_type": "code",
   "execution_count": 18,
   "id": "c90cfc79",
   "metadata": {},
   "outputs": [
    {
     "data": {
      "image/png": "[encoded data removed]",
      "text/plain": [
       "<Figure size 432x288 with 1 Axes>"
      ]
     },
     "metadata": {},
     "output_type": "display_data"
    }
   ],
   "source": [
    "plt.plot(middle_tau4, pi_svm, 'mo')\n",
    "plt.legend([\"SVM\"])\n",
    "plt.savefig(\"SVM\")"
   ]
  },
  {
   "cell_type": "markdown",
   "id": "4ba59c18",
   "metadata": {},
   "source": [
    "# WSZYTSKIE WYKRESY"
   ]
  },
  {
   "cell_type": "markdown",
   "id": "bb5a4eb0",
   "metadata": {},
   "source": [
    "Na koniec przedstawiono wszystkie wykresy na jednym układzie współrzędnych. Wszytskie wartości prawdopodobieństw i częstości zostały oszacowane dzięki środkowym wartościom przedziałów zbioru treningowego. "
   ]
  },
  {
   "cell_type": "code",
   "execution_count": 19,
   "id": "8590cb07",
   "metadata": {},
   "outputs": [
    {
     "data": {
      "image/png": "[encoded data removed]",
      "text/plain": [
       "<Figure size 432x288 with 1 Axes>"
      ]
     },
     "metadata": {},
     "output_type": "display_data"
    }
   ],
   "source": [
    "plt.plot(middle_tau4, pi_svm, 'mo')\n",
    "plt.plot(middle_tau4, pi_forest, 'bo' )\n",
    "plt.plot(middle_tau4, pi_log, 'go' )\n",
    "plt.plot(middle_tau4, freq, 'ro')\n",
    "plt.legend([\"SVM\", \"FOREST\", \"LOGISTIC\", \"FREQUENCIES\"])\n",
    "plt.savefig(\"Wszystkie wykresy\")"
   ]
  }
 ],
 "metadata": {
  "kernelspec": {
   "display_name": "Python 3",
   "language": "python",
   "name": "python3"
  },
  "language_info": {
   "codemirror_mode": {
    "name": "ipython",
    "version": 3
   },
   "file_extension": ".py",
   "mimetype": "text/x-python",
   "name": "python",
   "nbconvert_exporter": "python",
   "pygments_lexer": "ipython3",
   "version": "3.8.8"
  }
 },
 "nbformat": 4,
 "nbformat_minor": 5
}

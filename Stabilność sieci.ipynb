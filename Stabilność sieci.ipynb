{
 "cells": [
  {
   "cell_type": "markdown",
   "id": "0b966735",
   "metadata": {},
   "source": [
    "# Wprowadzenie"
   ]
  },
  {
   "cell_type": "markdown",
   "id": "12a021b3",
   "metadata": {},
   "source": [
    "Niniejszy zeszyt jest realizacją zadania praktycznego w pracy inżynierskiej:\n",
    "\n",
    "\n",
    "    Regresja logistyczna w uczeniu maszynowym na przykładzie badania\n",
    "    stabilności sieci energetycznej.\n",
    "    \n",
    "    \n",
    "Zbiór uczący zostanie przeanalizowany, sprawdzony pod kątem przygotowania danych do uczenia maszynowego, a następnie przeprowadzone zostaną procesy uczenia dla 3 różnych algorytmów:\n",
    "* regresji logistycznej,\n",
    "* lasów losowych,\n",
    "* maszyn wektorów nośnych.\n",
    "\n",
    "Najwięcej uwagi zostanie poświęconej modelu logistycznemu. Model zostanie stworzony na danych przeskalowanych, nieskalowanych oraz z niektórymi wybranymi atrybutami. \n"
   ]
  },
  {
   "cell_type": "markdown",
   "id": "6865e43f",
   "metadata": {},
   "source": [
    "# Importowanie bibliotek"
   ]
  },
  {
   "cell_type": "code",
   "execution_count": 1,
   "id": "6e958d16",
   "metadata": {},
   "outputs": [
    {
     "name": "stderr",
     "output_type": "stream",
     "text": [
      "D:\\Programy\\Anaconda\\lib\\site-packages\\scipy\\__init__.py:138: UserWarning: A NumPy version >=1.16.5 and <1.23.0 is required for this version of SciPy (detected version 1.23.4)\n",
      "  warnings.warn(f\"A NumPy version >={np_minversion} and <{np_maxversion} is required for this version of \"\n",
      "D:\\Programy\\Anaconda\\lib\\site-packages\\statsmodels\\tsa\\base\\tsa_model.py:7: FutureWarning: pandas.Int64Index is deprecated and will be removed from pandas in a future version. Use pandas.Index with the appropriate dtype instead.\n",
      "  from pandas import (to_datetime, Int64Index, DatetimeIndex, Period,\n",
      "D:\\Programy\\Anaconda\\lib\\site-packages\\statsmodels\\tsa\\base\\tsa_model.py:7: FutureWarning: pandas.Float64Index is deprecated and will be removed from pandas in a future version. Use pandas.Index with the appropriate dtype instead.\n",
      "  from pandas import (to_datetime, Int64Index, DatetimeIndex, Period,\n"
     ]
    }
   ],
   "source": [
    "import pandas as pd\n",
    "import numpy as np\n",
    "import matplotlib.pyplot as plt\n",
    "import seaborn as sns\n",
    "import statsmodels.api as sm\n",
    "import math\n",
    "from sklearn.metrics import confusion_matrix\n",
    "sns.set()\n"
   ]
  },
  {
   "cell_type": "markdown",
   "id": "a497dbe9",
   "metadata": {},
   "source": [
    "# Analiza danych"
   ]
  },
  {
   "cell_type": "markdown",
   "id": "14c2bcde",
   "metadata": {},
   "source": [
    "W tej sekcji zostanie przeanalizowany model pod kątem zbilansowania danych, korelacji, rozkładów cech oraz występowania braków danych."
   ]
  },
  {
   "cell_type": "code",
   "execution_count": 2,
   "id": "115fc695",
   "metadata": {},
   "outputs": [
    {
     "data": {
      "text/plain": [
       "pandas.core.frame.DataFrame"
      ]
     },
     "execution_count": 2,
     "metadata": {},
     "output_type": "execute_result"
    }
   ],
   "source": [
    "raw_data = pd.read_csv('Data_for_UCI_named.csv')\n",
    "type(raw_data)"
   ]
  },
  {
   "cell_type": "code",
   "execution_count": 3,
   "id": "f9126232",
   "metadata": {},
   "outputs": [
    {
     "data": {
      "text/html": [
       "<div>\n",
       "<style scoped>\n",
       "    .dataframe tbody tr th:only-of-type {\n",
       "        vertical-align: middle;\n",
       "    }\n",
       "\n",
       "    .dataframe tbody tr th {\n",
       "        vertical-align: top;\n",
       "    }\n",
       "\n",
       "    .dataframe thead th {\n",
       "        text-align: right;\n",
       "    }\n",
       "</style>\n",
       "<table border=\"1\" class=\"dataframe\">\n",
       "  <thead>\n",
       "    <tr style=\"text-align: right;\">\n",
       "      <th></th>\n",
       "      <th>tau1</th>\n",
       "      <th>tau2</th>\n",
       "      <th>tau3</th>\n",
       "      <th>tau4</th>\n",
       "      <th>p1</th>\n",
       "      <th>p2</th>\n",
       "      <th>p3</th>\n",
       "      <th>p4</th>\n",
       "      <th>g1</th>\n",
       "      <th>g2</th>\n",
       "      <th>g3</th>\n",
       "      <th>g4</th>\n",
       "      <th>stab</th>\n",
       "    </tr>\n",
       "  </thead>\n",
       "  <tbody>\n",
       "    <tr>\n",
       "      <th>count</th>\n",
       "      <td>10000.000000</td>\n",
       "      <td>10000.000000</td>\n",
       "      <td>10000.000000</td>\n",
       "      <td>10000.000000</td>\n",
       "      <td>10000.000000</td>\n",
       "      <td>10000.000000</td>\n",
       "      <td>10000.000000</td>\n",
       "      <td>10000.000000</td>\n",
       "      <td>10000.000000</td>\n",
       "      <td>10000.000000</td>\n",
       "      <td>10000.000000</td>\n",
       "      <td>10000.000000</td>\n",
       "      <td>10000.000000</td>\n",
       "    </tr>\n",
       "    <tr>\n",
       "      <th>mean</th>\n",
       "      <td>5.250000</td>\n",
       "      <td>5.250001</td>\n",
       "      <td>5.250004</td>\n",
       "      <td>5.249997</td>\n",
       "      <td>3.750000</td>\n",
       "      <td>-1.250000</td>\n",
       "      <td>-1.250000</td>\n",
       "      <td>-1.250000</td>\n",
       "      <td>0.525000</td>\n",
       "      <td>0.525000</td>\n",
       "      <td>0.525000</td>\n",
       "      <td>0.525000</td>\n",
       "      <td>0.015731</td>\n",
       "    </tr>\n",
       "    <tr>\n",
       "      <th>std</th>\n",
       "      <td>2.742548</td>\n",
       "      <td>2.742549</td>\n",
       "      <td>2.742549</td>\n",
       "      <td>2.742556</td>\n",
       "      <td>0.752160</td>\n",
       "      <td>0.433035</td>\n",
       "      <td>0.433035</td>\n",
       "      <td>0.433035</td>\n",
       "      <td>0.274256</td>\n",
       "      <td>0.274255</td>\n",
       "      <td>0.274255</td>\n",
       "      <td>0.274255</td>\n",
       "      <td>0.036919</td>\n",
       "    </tr>\n",
       "    <tr>\n",
       "      <th>min</th>\n",
       "      <td>0.500793</td>\n",
       "      <td>0.500141</td>\n",
       "      <td>0.500788</td>\n",
       "      <td>0.500473</td>\n",
       "      <td>1.582590</td>\n",
       "      <td>-1.999891</td>\n",
       "      <td>-1.999945</td>\n",
       "      <td>-1.999926</td>\n",
       "      <td>0.050009</td>\n",
       "      <td>0.050053</td>\n",
       "      <td>0.050054</td>\n",
       "      <td>0.050028</td>\n",
       "      <td>-0.080760</td>\n",
       "    </tr>\n",
       "    <tr>\n",
       "      <th>25%</th>\n",
       "      <td>2.874892</td>\n",
       "      <td>2.875140</td>\n",
       "      <td>2.875522</td>\n",
       "      <td>2.874950</td>\n",
       "      <td>3.218300</td>\n",
       "      <td>-1.624901</td>\n",
       "      <td>-1.625025</td>\n",
       "      <td>-1.624960</td>\n",
       "      <td>0.287521</td>\n",
       "      <td>0.287552</td>\n",
       "      <td>0.287514</td>\n",
       "      <td>0.287494</td>\n",
       "      <td>-0.015557</td>\n",
       "    </tr>\n",
       "    <tr>\n",
       "      <th>50%</th>\n",
       "      <td>5.250004</td>\n",
       "      <td>5.249981</td>\n",
       "      <td>5.249979</td>\n",
       "      <td>5.249734</td>\n",
       "      <td>3.751025</td>\n",
       "      <td>-1.249966</td>\n",
       "      <td>-1.249974</td>\n",
       "      <td>-1.250007</td>\n",
       "      <td>0.525009</td>\n",
       "      <td>0.525003</td>\n",
       "      <td>0.525015</td>\n",
       "      <td>0.525002</td>\n",
       "      <td>0.017142</td>\n",
       "    </tr>\n",
       "    <tr>\n",
       "      <th>75%</th>\n",
       "      <td>7.624690</td>\n",
       "      <td>7.624893</td>\n",
       "      <td>7.624948</td>\n",
       "      <td>7.624838</td>\n",
       "      <td>4.282420</td>\n",
       "      <td>-0.874977</td>\n",
       "      <td>-0.875043</td>\n",
       "      <td>-0.875065</td>\n",
       "      <td>0.762435</td>\n",
       "      <td>0.762490</td>\n",
       "      <td>0.762440</td>\n",
       "      <td>0.762433</td>\n",
       "      <td>0.044878</td>\n",
       "    </tr>\n",
       "    <tr>\n",
       "      <th>max</th>\n",
       "      <td>9.999469</td>\n",
       "      <td>9.999837</td>\n",
       "      <td>9.999450</td>\n",
       "      <td>9.999443</td>\n",
       "      <td>5.864418</td>\n",
       "      <td>-0.500108</td>\n",
       "      <td>-0.500072</td>\n",
       "      <td>-0.500025</td>\n",
       "      <td>0.999937</td>\n",
       "      <td>0.999944</td>\n",
       "      <td>0.999982</td>\n",
       "      <td>0.999930</td>\n",
       "      <td>0.109403</td>\n",
       "    </tr>\n",
       "  </tbody>\n",
       "</table>\n",
       "</div>"
      ],
      "text/plain": [
       "               tau1          tau2          tau3          tau4            p1  \\\n",
       "count  10000.000000  10000.000000  10000.000000  10000.000000  10000.000000   \n",
       "mean       5.250000      5.250001      5.250004      5.249997      3.750000   \n",
       "std        2.742548      2.742549      2.742549      2.742556      0.752160   \n",
       "min        0.500793      0.500141      0.500788      0.500473      1.582590   \n",
       "25%        2.874892      2.875140      2.875522      2.874950      3.218300   \n",
       "50%        5.250004      5.249981      5.249979      5.249734      3.751025   \n",
       "75%        7.624690      7.624893      7.624948      7.624838      4.282420   \n",
       "max        9.999469      9.999837      9.999450      9.999443      5.864418   \n",
       "\n",
       "                 p2            p3            p4            g1            g2  \\\n",
       "count  10000.000000  10000.000000  10000.000000  10000.000000  10000.000000   \n",
       "mean      -1.250000     -1.250000     -1.250000      0.525000      0.525000   \n",
       "std        0.433035      0.433035      0.433035      0.274256      0.274255   \n",
       "min       -1.999891     -1.999945     -1.999926      0.050009      0.050053   \n",
       "25%       -1.624901     -1.625025     -1.624960      0.287521      0.287552   \n",
       "50%       -1.249966     -1.249974     -1.250007      0.525009      0.525003   \n",
       "75%       -0.874977     -0.875043     -0.875065      0.762435      0.762490   \n",
       "max       -0.500108     -0.500072     -0.500025      0.999937      0.999944   \n",
       "\n",
       "                 g3            g4          stab  \n",
       "count  10000.000000  10000.000000  10000.000000  \n",
       "mean       0.525000      0.525000      0.015731  \n",
       "std        0.274255      0.274255      0.036919  \n",
       "min        0.050054      0.050028     -0.080760  \n",
       "25%        0.287514      0.287494     -0.015557  \n",
       "50%        0.525015      0.525002      0.017142  \n",
       "75%        0.762440      0.762433      0.044878  \n",
       "max        0.999982      0.999930      0.109403  "
      ]
     },
     "execution_count": 3,
     "metadata": {},
     "output_type": "execute_result"
    }
   ],
   "source": [
    "raw_data.describe()"
   ]
  },
  {
   "cell_type": "code",
   "execution_count": 4,
   "id": "a8cdedd5",
   "metadata": {},
   "outputs": [
    {
     "data": {
      "text/html": [
       "<div>\n",
       "<style scoped>\n",
       "    .dataframe tbody tr th:only-of-type {\n",
       "        vertical-align: middle;\n",
       "    }\n",
       "\n",
       "    .dataframe tbody tr th {\n",
       "        vertical-align: top;\n",
       "    }\n",
       "\n",
       "    .dataframe thead th {\n",
       "        text-align: right;\n",
       "    }\n",
       "</style>\n",
       "<table border=\"1\" class=\"dataframe\">\n",
       "  <thead>\n",
       "    <tr style=\"text-align: right;\">\n",
       "      <th></th>\n",
       "      <th>p1</th>\n",
       "      <th>p2</th>\n",
       "      <th>p3</th>\n",
       "      <th>p4</th>\n",
       "    </tr>\n",
       "  </thead>\n",
       "  <tbody>\n",
       "    <tr>\n",
       "      <th>count</th>\n",
       "      <td>10000.000000</td>\n",
       "      <td>10000.000000</td>\n",
       "      <td>10000.000000</td>\n",
       "      <td>10000.000000</td>\n",
       "    </tr>\n",
       "    <tr>\n",
       "      <th>mean</th>\n",
       "      <td>3.750000</td>\n",
       "      <td>-1.250000</td>\n",
       "      <td>-1.250000</td>\n",
       "      <td>-1.250000</td>\n",
       "    </tr>\n",
       "    <tr>\n",
       "      <th>std</th>\n",
       "      <td>0.752160</td>\n",
       "      <td>0.433035</td>\n",
       "      <td>0.433035</td>\n",
       "      <td>0.433035</td>\n",
       "    </tr>\n",
       "    <tr>\n",
       "      <th>min</th>\n",
       "      <td>1.582590</td>\n",
       "      <td>-1.999891</td>\n",
       "      <td>-1.999945</td>\n",
       "      <td>-1.999926</td>\n",
       "    </tr>\n",
       "    <tr>\n",
       "      <th>25%</th>\n",
       "      <td>3.218300</td>\n",
       "      <td>-1.624901</td>\n",
       "      <td>-1.625025</td>\n",
       "      <td>-1.624960</td>\n",
       "    </tr>\n",
       "    <tr>\n",
       "      <th>50%</th>\n",
       "      <td>3.751025</td>\n",
       "      <td>-1.249966</td>\n",
       "      <td>-1.249974</td>\n",
       "      <td>-1.250007</td>\n",
       "    </tr>\n",
       "    <tr>\n",
       "      <th>75%</th>\n",
       "      <td>4.282420</td>\n",
       "      <td>-0.874977</td>\n",
       "      <td>-0.875043</td>\n",
       "      <td>-0.875065</td>\n",
       "    </tr>\n",
       "    <tr>\n",
       "      <th>max</th>\n",
       "      <td>5.864418</td>\n",
       "      <td>-0.500108</td>\n",
       "      <td>-0.500072</td>\n",
       "      <td>-0.500025</td>\n",
       "    </tr>\n",
       "  </tbody>\n",
       "</table>\n",
       "</div>"
      ],
      "text/plain": [
       "                 p1            p2            p3            p4\n",
       "count  10000.000000  10000.000000  10000.000000  10000.000000\n",
       "mean       3.750000     -1.250000     -1.250000     -1.250000\n",
       "std        0.752160      0.433035      0.433035      0.433035\n",
       "min        1.582590     -1.999891     -1.999945     -1.999926\n",
       "25%        3.218300     -1.624901     -1.625025     -1.624960\n",
       "50%        3.751025     -1.249966     -1.249974     -1.250007\n",
       "75%        4.282420     -0.874977     -0.875043     -0.875065\n",
       "max        5.864418     -0.500108     -0.500072     -0.500025"
      ]
     },
     "execution_count": 4,
     "metadata": {},
     "output_type": "execute_result"
    }
   ],
   "source": [
    "raw_data[['p1','p2','p3','p4']].describe()"
   ]
  },
  {
   "cell_type": "code",
   "execution_count": 5,
   "id": "cb1abf8f",
   "metadata": {},
   "outputs": [
    {
     "data": {
      "text/html": [
       "<div>\n",
       "<style scoped>\n",
       "    .dataframe tbody tr th:only-of-type {\n",
       "        vertical-align: middle;\n",
       "    }\n",
       "\n",
       "    .dataframe tbody tr th {\n",
       "        vertical-align: top;\n",
       "    }\n",
       "\n",
       "    .dataframe thead th {\n",
       "        text-align: right;\n",
       "    }\n",
       "</style>\n",
       "<table border=\"1\" class=\"dataframe\">\n",
       "  <thead>\n",
       "    <tr style=\"text-align: right;\">\n",
       "      <th></th>\n",
       "      <th>g1</th>\n",
       "      <th>g2</th>\n",
       "      <th>g3</th>\n",
       "      <th>g4</th>\n",
       "    </tr>\n",
       "  </thead>\n",
       "  <tbody>\n",
       "    <tr>\n",
       "      <th>count</th>\n",
       "      <td>10000.000000</td>\n",
       "      <td>10000.000000</td>\n",
       "      <td>10000.000000</td>\n",
       "      <td>10000.000000</td>\n",
       "    </tr>\n",
       "    <tr>\n",
       "      <th>mean</th>\n",
       "      <td>0.525000</td>\n",
       "      <td>0.525000</td>\n",
       "      <td>0.525000</td>\n",
       "      <td>0.525000</td>\n",
       "    </tr>\n",
       "    <tr>\n",
       "      <th>std</th>\n",
       "      <td>0.274256</td>\n",
       "      <td>0.274255</td>\n",
       "      <td>0.274255</td>\n",
       "      <td>0.274255</td>\n",
       "    </tr>\n",
       "    <tr>\n",
       "      <th>min</th>\n",
       "      <td>0.050009</td>\n",
       "      <td>0.050053</td>\n",
       "      <td>0.050054</td>\n",
       "      <td>0.050028</td>\n",
       "    </tr>\n",
       "    <tr>\n",
       "      <th>25%</th>\n",
       "      <td>0.287521</td>\n",
       "      <td>0.287552</td>\n",
       "      <td>0.287514</td>\n",
       "      <td>0.287494</td>\n",
       "    </tr>\n",
       "    <tr>\n",
       "      <th>50%</th>\n",
       "      <td>0.525009</td>\n",
       "      <td>0.525003</td>\n",
       "      <td>0.525015</td>\n",
       "      <td>0.525002</td>\n",
       "    </tr>\n",
       "    <tr>\n",
       "      <th>75%</th>\n",
       "      <td>0.762435</td>\n",
       "      <td>0.762490</td>\n",
       "      <td>0.762440</td>\n",
       "      <td>0.762433</td>\n",
       "    </tr>\n",
       "    <tr>\n",
       "      <th>max</th>\n",
       "      <td>0.999937</td>\n",
       "      <td>0.999944</td>\n",
       "      <td>0.999982</td>\n",
       "      <td>0.999930</td>\n",
       "    </tr>\n",
       "  </tbody>\n",
       "</table>\n",
       "</div>"
      ],
      "text/plain": [
       "                 g1            g2            g3            g4\n",
       "count  10000.000000  10000.000000  10000.000000  10000.000000\n",
       "mean       0.525000      0.525000      0.525000      0.525000\n",
       "std        0.274256      0.274255      0.274255      0.274255\n",
       "min        0.050009      0.050053      0.050054      0.050028\n",
       "25%        0.287521      0.287552      0.287514      0.287494\n",
       "50%        0.525009      0.525003      0.525015      0.525002\n",
       "75%        0.762435      0.762490      0.762440      0.762433\n",
       "max        0.999937      0.999944      0.999982      0.999930"
      ]
     },
     "execution_count": 5,
     "metadata": {},
     "output_type": "execute_result"
    }
   ],
   "source": [
    "raw_data[['g1','g2','g3','g4']].describe()"
   ]
  },
  {
   "cell_type": "code",
   "execution_count": 6,
   "id": "ed3da8e6",
   "metadata": {},
   "outputs": [
    {
     "data": {
      "text/plain": [
       "count        10000\n",
       "unique           2\n",
       "top       unstable\n",
       "freq          6380\n",
       "Name: stabf, dtype: object"
      ]
     },
     "execution_count": 6,
     "metadata": {},
     "output_type": "execute_result"
    }
   ],
   "source": [
    "raw_data['stabf'].describe()"
   ]
  },
  {
   "cell_type": "code",
   "execution_count": 7,
   "id": "91d2d105",
   "metadata": {},
   "outputs": [
    {
     "name": "stdout",
     "output_type": "stream",
     "text": [
      "<class 'pandas.core.frame.DataFrame'>\n",
      "RangeIndex: 10000 entries, 0 to 9999\n",
      "Data columns (total 14 columns):\n",
      " #   Column  Non-Null Count  Dtype  \n",
      "---  ------  --------------  -----  \n",
      " 0   tau1    10000 non-null  float64\n",
      " 1   tau2    10000 non-null  float64\n",
      " 2   tau3    10000 non-null  float64\n",
      " 3   tau4    10000 non-null  float64\n",
      " 4   p1      10000 non-null  float64\n",
      " 5   p2      10000 non-null  float64\n",
      " 6   p3      10000 non-null  float64\n",
      " 7   p4      10000 non-null  float64\n",
      " 8   g1      10000 non-null  float64\n",
      " 9   g2      10000 non-null  float64\n",
      " 10  g3      10000 non-null  float64\n",
      " 11  g4      10000 non-null  float64\n",
      " 12  stab    10000 non-null  float64\n",
      " 13  stabf   10000 non-null  object \n",
      "dtypes: float64(13), object(1)\n",
      "memory usage: 1.1+ MB\n"
     ]
    }
   ],
   "source": [
    "raw_data.info()"
   ]
  },
  {
   "cell_type": "markdown",
   "id": "dd5c9468",
   "metadata": {},
   "source": [
    "Analiza wskazuje niewystępowanie pustych wartości, dzięki czemu nie potrzeba wypełniania tzw. \"missing values\" medianą, średnią lub poprzez inne techniki.\n",
    "Brak również dummy variables - zmiennych jakościowych, dzięki czemu w regresji logistycznej nie trzeba wcześniej tworzyć takich. Wyjątkiem jest zmienna objaśniana, która zostanie zmapowana na zmienną binarną poniżej.  "
   ]
  },
  {
   "cell_type": "markdown",
   "id": "f3a3c5bb",
   "metadata": {},
   "source": [
    "# Stworzenie zmiennej binarnej"
   ]
  },
  {
   "cell_type": "code",
   "execution_count": 8,
   "id": "a9c1f52f",
   "metadata": {},
   "outputs": [
    {
     "data": {
      "text/html": [
       "<div>\n",
       "<style scoped>\n",
       "    .dataframe tbody tr th:only-of-type {\n",
       "        vertical-align: middle;\n",
       "    }\n",
       "\n",
       "    .dataframe tbody tr th {\n",
       "        vertical-align: top;\n",
       "    }\n",
       "\n",
       "    .dataframe thead th {\n",
       "        text-align: right;\n",
       "    }\n",
       "</style>\n",
       "<table border=\"1\" class=\"dataframe\">\n",
       "  <thead>\n",
       "    <tr style=\"text-align: right;\">\n",
       "      <th></th>\n",
       "      <th>tau1</th>\n",
       "      <th>tau2</th>\n",
       "      <th>tau3</th>\n",
       "      <th>tau4</th>\n",
       "      <th>p1</th>\n",
       "      <th>p2</th>\n",
       "      <th>p3</th>\n",
       "      <th>p4</th>\n",
       "      <th>g1</th>\n",
       "      <th>g2</th>\n",
       "      <th>g3</th>\n",
       "      <th>g4</th>\n",
       "      <th>stabf</th>\n",
       "    </tr>\n",
       "  </thead>\n",
       "  <tbody>\n",
       "    <tr>\n",
       "      <th>0</th>\n",
       "      <td>2.959060</td>\n",
       "      <td>3.079885</td>\n",
       "      <td>8.381025</td>\n",
       "      <td>9.780754</td>\n",
       "      <td>3.763085</td>\n",
       "      <td>-0.782604</td>\n",
       "      <td>-1.257395</td>\n",
       "      <td>-1.723086</td>\n",
       "      <td>0.650456</td>\n",
       "      <td>0.859578</td>\n",
       "      <td>0.887445</td>\n",
       "      <td>0.958034</td>\n",
       "      <td>0</td>\n",
       "    </tr>\n",
       "    <tr>\n",
       "      <th>1</th>\n",
       "      <td>9.304097</td>\n",
       "      <td>4.902524</td>\n",
       "      <td>3.047541</td>\n",
       "      <td>1.369357</td>\n",
       "      <td>5.067812</td>\n",
       "      <td>-1.940058</td>\n",
       "      <td>-1.872742</td>\n",
       "      <td>-1.255012</td>\n",
       "      <td>0.413441</td>\n",
       "      <td>0.862414</td>\n",
       "      <td>0.562139</td>\n",
       "      <td>0.781760</td>\n",
       "      <td>1</td>\n",
       "    </tr>\n",
       "    <tr>\n",
       "      <th>2</th>\n",
       "      <td>8.971707</td>\n",
       "      <td>8.848428</td>\n",
       "      <td>3.046479</td>\n",
       "      <td>1.214518</td>\n",
       "      <td>3.405158</td>\n",
       "      <td>-1.207456</td>\n",
       "      <td>-1.277210</td>\n",
       "      <td>-0.920492</td>\n",
       "      <td>0.163041</td>\n",
       "      <td>0.766689</td>\n",
       "      <td>0.839444</td>\n",
       "      <td>0.109853</td>\n",
       "      <td>0</td>\n",
       "    </tr>\n",
       "    <tr>\n",
       "      <th>3</th>\n",
       "      <td>0.716415</td>\n",
       "      <td>7.669600</td>\n",
       "      <td>4.486641</td>\n",
       "      <td>2.340563</td>\n",
       "      <td>3.963791</td>\n",
       "      <td>-1.027473</td>\n",
       "      <td>-1.938944</td>\n",
       "      <td>-0.997374</td>\n",
       "      <td>0.446209</td>\n",
       "      <td>0.976744</td>\n",
       "      <td>0.929381</td>\n",
       "      <td>0.362718</td>\n",
       "      <td>0</td>\n",
       "    </tr>\n",
       "    <tr>\n",
       "      <th>4</th>\n",
       "      <td>3.134112</td>\n",
       "      <td>7.608772</td>\n",
       "      <td>4.943759</td>\n",
       "      <td>9.857573</td>\n",
       "      <td>3.525811</td>\n",
       "      <td>-1.125531</td>\n",
       "      <td>-1.845975</td>\n",
       "      <td>-0.554305</td>\n",
       "      <td>0.797110</td>\n",
       "      <td>0.455450</td>\n",
       "      <td>0.656947</td>\n",
       "      <td>0.820923</td>\n",
       "      <td>0</td>\n",
       "    </tr>\n",
       "    <tr>\n",
       "      <th>...</th>\n",
       "      <td>...</td>\n",
       "      <td>...</td>\n",
       "      <td>...</td>\n",
       "      <td>...</td>\n",
       "      <td>...</td>\n",
       "      <td>...</td>\n",
       "      <td>...</td>\n",
       "      <td>...</td>\n",
       "      <td>...</td>\n",
       "      <td>...</td>\n",
       "      <td>...</td>\n",
       "      <td>...</td>\n",
       "      <td>...</td>\n",
       "    </tr>\n",
       "    <tr>\n",
       "      <th>9995</th>\n",
       "      <td>2.930406</td>\n",
       "      <td>9.487627</td>\n",
       "      <td>2.376523</td>\n",
       "      <td>6.187797</td>\n",
       "      <td>3.343416</td>\n",
       "      <td>-0.658054</td>\n",
       "      <td>-1.449106</td>\n",
       "      <td>-1.236256</td>\n",
       "      <td>0.601709</td>\n",
       "      <td>0.779642</td>\n",
       "      <td>0.813512</td>\n",
       "      <td>0.608385</td>\n",
       "      <td>0</td>\n",
       "    </tr>\n",
       "    <tr>\n",
       "      <th>9996</th>\n",
       "      <td>3.392299</td>\n",
       "      <td>1.274827</td>\n",
       "      <td>2.954947</td>\n",
       "      <td>6.894759</td>\n",
       "      <td>4.349512</td>\n",
       "      <td>-1.663661</td>\n",
       "      <td>-0.952437</td>\n",
       "      <td>-1.733414</td>\n",
       "      <td>0.502079</td>\n",
       "      <td>0.567242</td>\n",
       "      <td>0.285880</td>\n",
       "      <td>0.366120</td>\n",
       "      <td>1</td>\n",
       "    </tr>\n",
       "    <tr>\n",
       "      <th>9997</th>\n",
       "      <td>2.364034</td>\n",
       "      <td>2.842030</td>\n",
       "      <td>8.776391</td>\n",
       "      <td>1.008906</td>\n",
       "      <td>4.299976</td>\n",
       "      <td>-1.380719</td>\n",
       "      <td>-0.943884</td>\n",
       "      <td>-1.975373</td>\n",
       "      <td>0.487838</td>\n",
       "      <td>0.986505</td>\n",
       "      <td>0.149286</td>\n",
       "      <td>0.145984</td>\n",
       "      <td>1</td>\n",
       "    </tr>\n",
       "    <tr>\n",
       "      <th>9998</th>\n",
       "      <td>9.631511</td>\n",
       "      <td>3.994398</td>\n",
       "      <td>2.757071</td>\n",
       "      <td>7.821347</td>\n",
       "      <td>2.514755</td>\n",
       "      <td>-0.966330</td>\n",
       "      <td>-0.649915</td>\n",
       "      <td>-0.898510</td>\n",
       "      <td>0.365246</td>\n",
       "      <td>0.587558</td>\n",
       "      <td>0.889118</td>\n",
       "      <td>0.818391</td>\n",
       "      <td>0</td>\n",
       "    </tr>\n",
       "    <tr>\n",
       "      <th>9999</th>\n",
       "      <td>6.530527</td>\n",
       "      <td>6.781790</td>\n",
       "      <td>4.349695</td>\n",
       "      <td>8.673138</td>\n",
       "      <td>3.492807</td>\n",
       "      <td>-1.390285</td>\n",
       "      <td>-1.532193</td>\n",
       "      <td>-0.570329</td>\n",
       "      <td>0.073056</td>\n",
       "      <td>0.505441</td>\n",
       "      <td>0.378761</td>\n",
       "      <td>0.942631</td>\n",
       "      <td>0</td>\n",
       "    </tr>\n",
       "  </tbody>\n",
       "</table>\n",
       "<p>10000 rows × 13 columns</p>\n",
       "</div>"
      ],
      "text/plain": [
       "          tau1      tau2      tau3      tau4        p1        p2        p3  \\\n",
       "0     2.959060  3.079885  8.381025  9.780754  3.763085 -0.782604 -1.257395   \n",
       "1     9.304097  4.902524  3.047541  1.369357  5.067812 -1.940058 -1.872742   \n",
       "2     8.971707  8.848428  3.046479  1.214518  3.405158 -1.207456 -1.277210   \n",
       "3     0.716415  7.669600  4.486641  2.340563  3.963791 -1.027473 -1.938944   \n",
       "4     3.134112  7.608772  4.943759  9.857573  3.525811 -1.125531 -1.845975   \n",
       "...        ...       ...       ...       ...       ...       ...       ...   \n",
       "9995  2.930406  9.487627  2.376523  6.187797  3.343416 -0.658054 -1.449106   \n",
       "9996  3.392299  1.274827  2.954947  6.894759  4.349512 -1.663661 -0.952437   \n",
       "9997  2.364034  2.842030  8.776391  1.008906  4.299976 -1.380719 -0.943884   \n",
       "9998  9.631511  3.994398  2.757071  7.821347  2.514755 -0.966330 -0.649915   \n",
       "9999  6.530527  6.781790  4.349695  8.673138  3.492807 -1.390285 -1.532193   \n",
       "\n",
       "            p4        g1        g2        g3        g4  stabf  \n",
       "0    -1.723086  0.650456  0.859578  0.887445  0.958034      0  \n",
       "1    -1.255012  0.413441  0.862414  0.562139  0.781760      1  \n",
       "2    -0.920492  0.163041  0.766689  0.839444  0.109853      0  \n",
       "3    -0.997374  0.446209  0.976744  0.929381  0.362718      0  \n",
       "4    -0.554305  0.797110  0.455450  0.656947  0.820923      0  \n",
       "...        ...       ...       ...       ...       ...    ...  \n",
       "9995 -1.236256  0.601709  0.779642  0.813512  0.608385      0  \n",
       "9996 -1.733414  0.502079  0.567242  0.285880  0.366120      1  \n",
       "9997 -1.975373  0.487838  0.986505  0.149286  0.145984      1  \n",
       "9998 -0.898510  0.365246  0.587558  0.889118  0.818391      0  \n",
       "9999 -0.570329  0.073056  0.505441  0.378761  0.942631      0  \n",
       "\n",
       "[10000 rows x 13 columns]"
      ]
     },
     "execution_count": 8,
     "metadata": {},
     "output_type": "execute_result"
    }
   ],
   "source": [
    "data_mapped = raw_data.copy() \n",
    "data_mapped['stabf'] = data_mapped['stabf'].map({'unstable': 0, 'stable': 1})\n",
    "data_mapped = data_mapped.drop(labels = 'stab', axis = 1)\n",
    "data_mapped"
   ]
  },
  {
   "cell_type": "markdown",
   "id": "b43ea2e0",
   "metadata": {},
   "source": [
    "# Badanie korelacji"
   ]
  },
  {
   "cell_type": "markdown",
   "id": "6fbe8d96",
   "metadata": {},
   "source": [
    "Badanie korelacji potwierdzi, czy należy ograniczyć ilość atrybutów tylko do niektórych. Z wiedzy na temat zbioru uczącego można wnioskować, że korelację będą wykazywały moce użytkowników i dostawcy energii w sieci."
   ]
  },
  {
   "cell_type": "code",
   "execution_count": 9,
   "id": "feb74200",
   "metadata": {},
   "outputs": [
    {
     "data": {
      "text/plain": [
       "<AxesSubplot:>"
      ]
     },
     "execution_count": 9,
     "metadata": {},
     "output_type": "execute_result"
    },
    {
     "data": {
      "image/png": "[encoded data removed]",
      "text/plain": [
       "<Figure size 432x288 with 2 Axes>"
      ]
     },
     "metadata": {},
     "output_type": "display_data"
    }
   ],
   "source": [
    "corr_p1_p2 = data_mapped[['p1', 'p2', 'p3', 'p4']].corr()\n",
    "sns.heatmap(corr_p1_p2, annot = True) #annot - wartości korelacji"
   ]
  },
  {
   "cell_type": "code",
   "execution_count": 10,
   "id": "e1376c43",
   "metadata": {},
   "outputs": [
    {
     "data": {
      "text/plain": [
       "<AxesSubplot:>"
      ]
     },
     "execution_count": 10,
     "metadata": {},
     "output_type": "execute_result"
    },
    {
     "data": {
      "image/png": "[encoded data removed]",
      "text/plain": [
       "<Figure size 432x288 with 2 Axes>"
      ]
     },
     "metadata": {},
     "output_type": "display_data"
    }
   ],
   "source": [
    "correlation_matrix = data_mapped.corr()\n",
    "sns.heatmap(correlation_matrix)"
   ]
  },
  {
   "cell_type": "code",
   "execution_count": 11,
   "id": "0cbc89ec",
   "metadata": {},
   "outputs": [
    {
     "data": {
      "text/plain": [
       "<AxesSubplot:>"
      ]
     },
     "execution_count": 11,
     "metadata": {},
     "output_type": "execute_result"
    },
    {
     "data": {
      "image/png": "[encoded data removed]",
      "text/plain": [
       "<Figure size 432x288 with 2 Axes>"
      ]
     },
     "metadata": {},
     "output_type": "display_data"
    }
   ],
   "source": [
    "corr_t1_t2 = data_mapped[['tau1', 'tau2', 'tau3', 'tau4', 'stabf']].corr()\n",
    "sns.heatmap(corr_t1_t2, annot = True) #annot - wartości korelacji"
   ]
  },
  {
   "cell_type": "code",
   "execution_count": 12,
   "id": "9336c2b7",
   "metadata": {},
   "outputs": [
    {
     "data": {
      "text/plain": [
       "<AxesSubplot:>"
      ]
     },
     "execution_count": 12,
     "metadata": {},
     "output_type": "execute_result"
    },
    {
     "data": {
      "image/png": "[encoded data removed]",
      "text/plain": [
       "<Figure size 432x288 with 2 Axes>"
      ]
     },
     "metadata": {},
     "output_type": "display_data"
    }
   ],
   "source": [
    "corr_t1_t2 = data_mapped[['g1', 'g2', 'g3', 'g4', 'stabf']].corr()\n",
    "sns.heatmap(corr_t1_t2, annot = True) #annot - wartości korelacji"
   ]
  },
  {
   "cell_type": "code",
   "execution_count": 13,
   "id": "f7a50233",
   "metadata": {},
   "outputs": [
    {
     "data": {
      "text/plain": [
       "<AxesSubplot:>"
      ]
     },
     "execution_count": 13,
     "metadata": {},
     "output_type": "execute_result"
    },
    {
     "data": {
      "image/png": "[encoded data removed]",
      "text/plain": [
       "<Figure size 432x288 with 2 Axes>"
      ]
     },
     "metadata": {},
     "output_type": "display_data"
    }
   ],
   "source": [
    "corr_t1_t2 = data_mapped[[ 'p2', 'p3', 'p4', 'stabf']].corr()\n",
    "sns.heatmap(corr_t1_t2, annot = True) #annot - wartości korelacji"
   ]
  },
  {
   "cell_type": "markdown",
   "id": "77af06a0",
   "metadata": {},
   "source": [
    "# Histogramy"
   ]
  },
  {
   "cell_type": "markdown",
   "id": "f0d5bdbe",
   "metadata": {},
   "source": [
    "Histogramy mają na celu zwizualizowanie rozkładów cech oraz wykrycie silnych wartości odstających. "
   ]
  },
  {
   "cell_type": "code",
   "execution_count": 14,
   "id": "9c4f0576",
   "metadata": {},
   "outputs": [
    {
     "data": {
      "text/plain": [
       "tau1    10000\n",
       "tau2    10000\n",
       "tau3    10000\n",
       "tau4    10000\n",
       "dtype: int64"
      ]
     },
     "execution_count": 14,
     "metadata": {},
     "output_type": "execute_result"
    }
   ],
   "source": [
    "data_mapped[['tau1', 'tau2', 'tau3', 'tau4']].count()"
   ]
  },
  {
   "cell_type": "code",
   "execution_count": 15,
   "id": "fdbb6a3b",
   "metadata": {},
   "outputs": [
    {
     "data": {
      "text/plain": [
       "0    6380\n",
       "1    3620\n",
       "Name: stabf, dtype: int64"
      ]
     },
     "execution_count": 15,
     "metadata": {},
     "output_type": "execute_result"
    }
   ],
   "source": [
    "data_mapped['stabf'].value_counts()"
   ]
  },
  {
   "cell_type": "code",
   "execution_count": 16,
   "id": "c9d238ac",
   "metadata": {},
   "outputs": [
    {
     "data": {
      "text/plain": [
       "<seaborn.axisgrid.FacetGrid at 0x2106bc98f40>"
      ]
     },
     "execution_count": 16,
     "metadata": {},
     "output_type": "execute_result"
    },
    {
     "data": {
      "image/png": "[encoded data removed]",
      "text/plain": [
       "<Figure size 360x360 with 1 Axes>"
      ]
     },
     "metadata": {},
     "output_type": "display_data"
    }
   ],
   "source": [
    "sns.displot(data_mapped, x ='tau1' )"
   ]
  },
  {
   "cell_type": "code",
   "execution_count": 17,
   "id": "543c0c9d",
   "metadata": {},
   "outputs": [
    {
     "data": {
      "text/plain": [
       "<seaborn.axisgrid.FacetGrid at 0x2106bd4e250>"
      ]
     },
     "execution_count": 17,
     "metadata": {},
     "output_type": "execute_result"
    },
    {
     "data": {
      "image/png": "[encoded data removed]",
      "text/plain": [
       "<Figure size 720x360 with 2 Axes>"
      ]
     },
     "metadata": {},
     "output_type": "display_data"
    }
   ],
   "source": [
    "sns.displot(data_mapped, x ='tau1', col = \"stabf\" )"
   ]
  },
  {
   "cell_type": "markdown",
   "id": "79722e90",
   "metadata": {},
   "source": [
    "Pozbiory nie mają równej ilości obserwacji, dlatego porównując rozkłady znormalizujemy napierw histogramy, parametr common_norm powoduje, że obydwa zbiory są normalizowane niezależnie"
   ]
  },
  {
   "cell_type": "code",
   "execution_count": 18,
   "id": "c95d6582",
   "metadata": {},
   "outputs": [
    {
     "data": {
      "text/plain": [
       "<seaborn.axisgrid.FacetGrid at 0x2106ce73910>"
      ]
     },
     "execution_count": 18,
     "metadata": {},
     "output_type": "execute_result"
    },
    {
     "data": {
      "image/png": "[encoded data removed]",
      "text/plain": [
       "<Figure size 405.725x360 with 1 Axes>"
      ]
     },
     "metadata": {},
     "output_type": "display_data"
    }
   ],
   "source": [
    "sns.displot(data_mapped, x ='tau1', hue = \"stabf\", stat ='density', common_norm=False )"
   ]
  },
  {
   "cell_type": "code",
   "execution_count": 19,
   "id": "f5f88f19",
   "metadata": {},
   "outputs": [
    {
     "data": {
      "text/plain": [
       "-0.16225006467506523"
      ]
     },
     "execution_count": 19,
     "metadata": {},
     "output_type": "execute_result"
    }
   ],
   "source": [
    "tau1_0 = data_mapped.loc[data_mapped['stabf'] == 0, 'tau1']\n",
    "tau1_0.skew()"
   ]
  },
  {
   "cell_type": "code",
   "execution_count": 20,
   "id": "0ad92c47",
   "metadata": {},
   "outputs": [
    {
     "data": {
      "text/plain": [
       "0.416282659833944"
      ]
     },
     "execution_count": 20,
     "metadata": {},
     "output_type": "execute_result"
    }
   ],
   "source": [
    "tau1_1 = data_mapped.loc[data_mapped['stabf'] == 1, 'tau1']\n",
    "tau1_1.skew()"
   ]
  },
  {
   "cell_type": "code",
   "execution_count": 21,
   "id": "5c7c79ad",
   "metadata": {},
   "outputs": [
    {
     "data": {
      "text/html": [
       "<div>\n",
       "<style scoped>\n",
       "    .dataframe tbody tr th:only-of-type {\n",
       "        vertical-align: middle;\n",
       "    }\n",
       "\n",
       "    .dataframe tbody tr th {\n",
       "        vertical-align: top;\n",
       "    }\n",
       "\n",
       "    .dataframe thead th {\n",
       "        text-align: right;\n",
       "    }\n",
       "</style>\n",
       "<table border=\"1\" class=\"dataframe\">\n",
       "  <thead>\n",
       "    <tr style=\"text-align: right;\">\n",
       "      <th></th>\n",
       "      <th>Skośność</th>\n",
       "    </tr>\n",
       "  </thead>\n",
       "  <tbody>\n",
       "    <tr>\n",
       "      <th>niestabilny</th>\n",
       "      <td>-0.162250</td>\n",
       "    </tr>\n",
       "    <tr>\n",
       "      <th>stabilny</th>\n",
       "      <td>0.416283</td>\n",
       "    </tr>\n",
       "  </tbody>\n",
       "</table>\n",
       "</div>"
      ],
      "text/plain": [
       "             Skośność\n",
       "niestabilny -0.162250\n",
       "stabilny     0.416283"
      ]
     },
     "execution_count": 21,
     "metadata": {},
     "output_type": "execute_result"
    }
   ],
   "source": [
    "df_tau1 = pd.DataFrame(data = [tau1_0.skew(), tau1_1.skew()], index = ['niestabilny', 'stabilny'], columns = ['Skośność'])\n",
    "df_tau1"
   ]
  },
  {
   "cell_type": "code",
   "execution_count": 22,
   "id": "58b311ba",
   "metadata": {},
   "outputs": [
    {
     "data": {
      "text/plain": [
       "<seaborn.axisgrid.FacetGrid at 0x2106cf08fa0>"
      ]
     },
     "execution_count": 22,
     "metadata": {},
     "output_type": "execute_result"
    },
    {
     "data": {
      "image/png": "[encoded data removed]",
      "text/plain": [
       "<Figure size 405.725x360 with 1 Axes>"
      ]
     },
     "metadata": {},
     "output_type": "display_data"
    }
   ],
   "source": [
    "sns.displot(data_mapped, x ='p1', hue = \"stabf\", stat ='density', common_norm=False )"
   ]
  },
  {
   "cell_type": "code",
   "execution_count": 23,
   "id": "ccf7d026",
   "metadata": {},
   "outputs": [
    {
     "data": {
      "text/html": [
       "<div>\n",
       "<style scoped>\n",
       "    .dataframe tbody tr th:only-of-type {\n",
       "        vertical-align: middle;\n",
       "    }\n",
       "\n",
       "    .dataframe tbody tr th {\n",
       "        vertical-align: top;\n",
       "    }\n",
       "\n",
       "    .dataframe thead th {\n",
       "        text-align: right;\n",
       "    }\n",
       "</style>\n",
       "<table border=\"1\" class=\"dataframe\">\n",
       "  <thead>\n",
       "    <tr style=\"text-align: right;\">\n",
       "      <th></th>\n",
       "      <th>Skośność</th>\n",
       "    </tr>\n",
       "  </thead>\n",
       "  <tbody>\n",
       "    <tr>\n",
       "      <th>niestabilny</th>\n",
       "      <td>-0.017463</td>\n",
       "    </tr>\n",
       "    <tr>\n",
       "      <th>stabilny</th>\n",
       "      <td>-0.005281</td>\n",
       "    </tr>\n",
       "  </tbody>\n",
       "</table>\n",
       "</div>"
      ],
      "text/plain": [
       "             Skośność\n",
       "niestabilny -0.017463\n",
       "stabilny    -0.005281"
      ]
     },
     "execution_count": 23,
     "metadata": {},
     "output_type": "execute_result"
    }
   ],
   "source": [
    "p1_0 = data_mapped.loc[data_mapped['stabf'] == 0, 'p1']\n",
    "p1_1 = data_mapped.loc[data_mapped['stabf'] == 1, 'p1']\n",
    "df_p1 = pd.DataFrame(data = [p1_0.skew(), p1_1.skew()], index = ['niestabilny', 'stabilny'], columns = ['Skośność'])\n",
    "df_p1"
   ]
  },
  {
   "cell_type": "code",
   "execution_count": 24,
   "id": "755e038c",
   "metadata": {},
   "outputs": [
    {
     "data": {
      "text/plain": [
       "<seaborn.axisgrid.FacetGrid at 0x2106bcfe190>"
      ]
     },
     "execution_count": 24,
     "metadata": {},
     "output_type": "execute_result"
    },
    {
     "data": {
      "image/png": "[encoded data removed]",
      "text/plain": [
       "<Figure size 405.725x360 with 1 Axes>"
      ]
     },
     "metadata": {},
     "output_type": "display_data"
    }
   ],
   "source": [
    "sns.displot(data_mapped, x ='g1', hue = \"stabf\", stat ='density', common_norm=False )"
   ]
  },
  {
   "cell_type": "code",
   "execution_count": 25,
   "id": "5a231969",
   "metadata": {},
   "outputs": [
    {
     "data": {
      "text/html": [
       "<div>\n",
       "<style scoped>\n",
       "    .dataframe tbody tr th:only-of-type {\n",
       "        vertical-align: middle;\n",
       "    }\n",
       "\n",
       "    .dataframe tbody tr th {\n",
       "        vertical-align: top;\n",
       "    }\n",
       "\n",
       "    .dataframe thead th {\n",
       "        text-align: right;\n",
       "    }\n",
       "</style>\n",
       "<table border=\"1\" class=\"dataframe\">\n",
       "  <thead>\n",
       "    <tr style=\"text-align: right;\">\n",
       "      <th></th>\n",
       "      <th>Skośność</th>\n",
       "    </tr>\n",
       "  </thead>\n",
       "  <tbody>\n",
       "    <tr>\n",
       "      <th>niestabilny</th>\n",
       "      <td>-0.180337</td>\n",
       "    </tr>\n",
       "    <tr>\n",
       "      <th>stabilny</th>\n",
       "      <td>0.317254</td>\n",
       "    </tr>\n",
       "  </tbody>\n",
       "</table>\n",
       "</div>"
      ],
      "text/plain": [
       "             Skośność\n",
       "niestabilny -0.180337\n",
       "stabilny     0.317254"
      ]
     },
     "execution_count": 25,
     "metadata": {},
     "output_type": "execute_result"
    }
   ],
   "source": [
    "g1_0 = data_mapped.loc[data_mapped['stabf'] == 0, 'g1']\n",
    "g1_1 = data_mapped.loc[data_mapped['stabf'] == 1, 'g1']\n",
    "df_g1 = pd.DataFrame(data = [g1_0.skew(), g1_1.skew()], index = ['niestabilny', 'stabilny'], columns = ['Skośność'])\n",
    "df_g1"
   ]
  },
  {
   "cell_type": "markdown",
   "id": "42461483",
   "metadata": {},
   "source": [
    "# Usuwanie p1"
   ]
  },
  {
   "cell_type": "markdown",
   "id": "720bb7a2",
   "metadata": {},
   "source": [
    "Należy usunąć zmienną, która jest zależna od innych, czyli p1. W drugim dodatku do pracy przeprowadzona została analiza modeli, gdy usunięte będą też inne cechy."
   ]
  },
  {
   "cell_type": "code",
   "execution_count": 26,
   "id": "45187994",
   "metadata": {},
   "outputs": [
    {
     "data": {
      "text/html": [
       "<div>\n",
       "<style scoped>\n",
       "    .dataframe tbody tr th:only-of-type {\n",
       "        vertical-align: middle;\n",
       "    }\n",
       "\n",
       "    .dataframe tbody tr th {\n",
       "        vertical-align: top;\n",
       "    }\n",
       "\n",
       "    .dataframe thead th {\n",
       "        text-align: right;\n",
       "    }\n",
       "</style>\n",
       "<table border=\"1\" class=\"dataframe\">\n",
       "  <thead>\n",
       "    <tr style=\"text-align: right;\">\n",
       "      <th></th>\n",
       "      <th>tau1</th>\n",
       "      <th>tau2</th>\n",
       "      <th>tau3</th>\n",
       "      <th>tau4</th>\n",
       "      <th>p2</th>\n",
       "      <th>p3</th>\n",
       "      <th>p4</th>\n",
       "      <th>g1</th>\n",
       "      <th>g2</th>\n",
       "      <th>g3</th>\n",
       "      <th>g4</th>\n",
       "      <th>stabf</th>\n",
       "    </tr>\n",
       "  </thead>\n",
       "  <tbody>\n",
       "    <tr>\n",
       "      <th>0</th>\n",
       "      <td>2.959060</td>\n",
       "      <td>3.079885</td>\n",
       "      <td>8.381025</td>\n",
       "      <td>9.780754</td>\n",
       "      <td>-0.782604</td>\n",
       "      <td>-1.257395</td>\n",
       "      <td>-1.723086</td>\n",
       "      <td>0.650456</td>\n",
       "      <td>0.859578</td>\n",
       "      <td>0.887445</td>\n",
       "      <td>0.958034</td>\n",
       "      <td>0</td>\n",
       "    </tr>\n",
       "    <tr>\n",
       "      <th>1</th>\n",
       "      <td>9.304097</td>\n",
       "      <td>4.902524</td>\n",
       "      <td>3.047541</td>\n",
       "      <td>1.369357</td>\n",
       "      <td>-1.940058</td>\n",
       "      <td>-1.872742</td>\n",
       "      <td>-1.255012</td>\n",
       "      <td>0.413441</td>\n",
       "      <td>0.862414</td>\n",
       "      <td>0.562139</td>\n",
       "      <td>0.781760</td>\n",
       "      <td>1</td>\n",
       "    </tr>\n",
       "    <tr>\n",
       "      <th>2</th>\n",
       "      <td>8.971707</td>\n",
       "      <td>8.848428</td>\n",
       "      <td>3.046479</td>\n",
       "      <td>1.214518</td>\n",
       "      <td>-1.207456</td>\n",
       "      <td>-1.277210</td>\n",
       "      <td>-0.920492</td>\n",
       "      <td>0.163041</td>\n",
       "      <td>0.766689</td>\n",
       "      <td>0.839444</td>\n",
       "      <td>0.109853</td>\n",
       "      <td>0</td>\n",
       "    </tr>\n",
       "    <tr>\n",
       "      <th>3</th>\n",
       "      <td>0.716415</td>\n",
       "      <td>7.669600</td>\n",
       "      <td>4.486641</td>\n",
       "      <td>2.340563</td>\n",
       "      <td>-1.027473</td>\n",
       "      <td>-1.938944</td>\n",
       "      <td>-0.997374</td>\n",
       "      <td>0.446209</td>\n",
       "      <td>0.976744</td>\n",
       "      <td>0.929381</td>\n",
       "      <td>0.362718</td>\n",
       "      <td>0</td>\n",
       "    </tr>\n",
       "    <tr>\n",
       "      <th>4</th>\n",
       "      <td>3.134112</td>\n",
       "      <td>7.608772</td>\n",
       "      <td>4.943759</td>\n",
       "      <td>9.857573</td>\n",
       "      <td>-1.125531</td>\n",
       "      <td>-1.845975</td>\n",
       "      <td>-0.554305</td>\n",
       "      <td>0.797110</td>\n",
       "      <td>0.455450</td>\n",
       "      <td>0.656947</td>\n",
       "      <td>0.820923</td>\n",
       "      <td>0</td>\n",
       "    </tr>\n",
       "    <tr>\n",
       "      <th>...</th>\n",
       "      <td>...</td>\n",
       "      <td>...</td>\n",
       "      <td>...</td>\n",
       "      <td>...</td>\n",
       "      <td>...</td>\n",
       "      <td>...</td>\n",
       "      <td>...</td>\n",
       "      <td>...</td>\n",
       "      <td>...</td>\n",
       "      <td>...</td>\n",
       "      <td>...</td>\n",
       "      <td>...</td>\n",
       "    </tr>\n",
       "    <tr>\n",
       "      <th>9995</th>\n",
       "      <td>2.930406</td>\n",
       "      <td>9.487627</td>\n",
       "      <td>2.376523</td>\n",
       "      <td>6.187797</td>\n",
       "      <td>-0.658054</td>\n",
       "      <td>-1.449106</td>\n",
       "      <td>-1.236256</td>\n",
       "      <td>0.601709</td>\n",
       "      <td>0.779642</td>\n",
       "      <td>0.813512</td>\n",
       "      <td>0.608385</td>\n",
       "      <td>0</td>\n",
       "    </tr>\n",
       "    <tr>\n",
       "      <th>9996</th>\n",
       "      <td>3.392299</td>\n",
       "      <td>1.274827</td>\n",
       "      <td>2.954947</td>\n",
       "      <td>6.894759</td>\n",
       "      <td>-1.663661</td>\n",
       "      <td>-0.952437</td>\n",
       "      <td>-1.733414</td>\n",
       "      <td>0.502079</td>\n",
       "      <td>0.567242</td>\n",
       "      <td>0.285880</td>\n",
       "      <td>0.366120</td>\n",
       "      <td>1</td>\n",
       "    </tr>\n",
       "    <tr>\n",
       "      <th>9997</th>\n",
       "      <td>2.364034</td>\n",
       "      <td>2.842030</td>\n",
       "      <td>8.776391</td>\n",
       "      <td>1.008906</td>\n",
       "      <td>-1.380719</td>\n",
       "      <td>-0.943884</td>\n",
       "      <td>-1.975373</td>\n",
       "      <td>0.487838</td>\n",
       "      <td>0.986505</td>\n",
       "      <td>0.149286</td>\n",
       "      <td>0.145984</td>\n",
       "      <td>1</td>\n",
       "    </tr>\n",
       "    <tr>\n",
       "      <th>9998</th>\n",
       "      <td>9.631511</td>\n",
       "      <td>3.994398</td>\n",
       "      <td>2.757071</td>\n",
       "      <td>7.821347</td>\n",
       "      <td>-0.966330</td>\n",
       "      <td>-0.649915</td>\n",
       "      <td>-0.898510</td>\n",
       "      <td>0.365246</td>\n",
       "      <td>0.587558</td>\n",
       "      <td>0.889118</td>\n",
       "      <td>0.818391</td>\n",
       "      <td>0</td>\n",
       "    </tr>\n",
       "    <tr>\n",
       "      <th>9999</th>\n",
       "      <td>6.530527</td>\n",
       "      <td>6.781790</td>\n",
       "      <td>4.349695</td>\n",
       "      <td>8.673138</td>\n",
       "      <td>-1.390285</td>\n",
       "      <td>-1.532193</td>\n",
       "      <td>-0.570329</td>\n",
       "      <td>0.073056</td>\n",
       "      <td>0.505441</td>\n",
       "      <td>0.378761</td>\n",
       "      <td>0.942631</td>\n",
       "      <td>0</td>\n",
       "    </tr>\n",
       "  </tbody>\n",
       "</table>\n",
       "<p>10000 rows × 12 columns</p>\n",
       "</div>"
      ],
      "text/plain": [
       "          tau1      tau2      tau3      tau4        p2        p3        p4  \\\n",
       "0     2.959060  3.079885  8.381025  9.780754 -0.782604 -1.257395 -1.723086   \n",
       "1     9.304097  4.902524  3.047541  1.369357 -1.940058 -1.872742 -1.255012   \n",
       "2     8.971707  8.848428  3.046479  1.214518 -1.207456 -1.277210 -0.920492   \n",
       "3     0.716415  7.669600  4.486641  2.340563 -1.027473 -1.938944 -0.997374   \n",
       "4     3.134112  7.608772  4.943759  9.857573 -1.125531 -1.845975 -0.554305   \n",
       "...        ...       ...       ...       ...       ...       ...       ...   \n",
       "9995  2.930406  9.487627  2.376523  6.187797 -0.658054 -1.449106 -1.236256   \n",
       "9996  3.392299  1.274827  2.954947  6.894759 -1.663661 -0.952437 -1.733414   \n",
       "9997  2.364034  2.842030  8.776391  1.008906 -1.380719 -0.943884 -1.975373   \n",
       "9998  9.631511  3.994398  2.757071  7.821347 -0.966330 -0.649915 -0.898510   \n",
       "9999  6.530527  6.781790  4.349695  8.673138 -1.390285 -1.532193 -0.570329   \n",
       "\n",
       "            g1        g2        g3        g4  stabf  \n",
       "0     0.650456  0.859578  0.887445  0.958034      0  \n",
       "1     0.413441  0.862414  0.562139  0.781760      1  \n",
       "2     0.163041  0.766689  0.839444  0.109853      0  \n",
       "3     0.446209  0.976744  0.929381  0.362718      0  \n",
       "4     0.797110  0.455450  0.656947  0.820923      0  \n",
       "...        ...       ...       ...       ...    ...  \n",
       "9995  0.601709  0.779642  0.813512  0.608385      0  \n",
       "9996  0.502079  0.567242  0.285880  0.366120      1  \n",
       "9997  0.487838  0.986505  0.149286  0.145984      1  \n",
       "9998  0.365246  0.587558  0.889118  0.818391      0  \n",
       "9999  0.073056  0.505441  0.378761  0.942631      0  \n",
       "\n",
       "[10000 rows x 12 columns]"
      ]
     },
     "execution_count": 26,
     "metadata": {},
     "output_type": "execute_result"
    }
   ],
   "source": [
    "data_with_p1 = data_mapped.copy()\n",
    "data_without_p1 = data_with_p1.drop('p1', axis=1)\n",
    "data_without_p1"
   ]
  },
  {
   "cell_type": "code",
   "execution_count": null,
   "id": "5088c3c9",
   "metadata": {},
   "outputs": [],
   "source": []
  },
  {
   "cell_type": "markdown",
   "id": "be9de8f1",
   "metadata": {},
   "source": [
    "# Train test split"
   ]
  },
  {
   "cell_type": "markdown",
   "id": "427c887a",
   "metadata": {},
   "source": [
    "Zbiór uczący zostanie podzielony na zbiór treningowy i testowy (o rozmiarze równym 30% całego zbioru). Należy zwrócić uwagę, czy interesuje nas zbiór zawierajacy atrybut p1. "
   ]
  },
  {
   "cell_type": "code",
   "execution_count": 27,
   "id": "e0af1d5d",
   "metadata": {},
   "outputs": [],
   "source": [
    "from sklearn.model_selection import train_test_split\n",
    "### BEZ P1 #########\n",
    "data = data_without_p1.copy()\n",
    "features_name = ['intercept','tau1', 'tau2', 'tau3', 'tau4', 'p2', 'p3', 'p4', 'g1', 'g2',\n",
    "'g3', 'g4'] \n",
    "########################\n",
    "######### Z P1 ###########\n",
    "# data = data_with_p1.copy()\n",
    "# features_name = ['intercept','tau1', 'tau2', 'tau3', 'tau4', 'p1', 'p2', 'p3', 'p4', 'g1', 'g2',\n",
    "# 'g3', 'g4'] \n",
    "#############################\n",
    "X = data.drop('stabf', axis = 1)\n",
    "y = data['stabf']\n",
    "X_train, X_test, y_train, y_test = train_test_split(X, y, test_size=0.3, random_state=42)\n",
    "\n"
   ]
  },
  {
   "cell_type": "markdown",
   "id": "60e075c9",
   "metadata": {},
   "source": [
    "# MODEL BEZ MOCY"
   ]
  },
  {
   "cell_type": "markdown",
   "id": "e18d1958",
   "metadata": {},
   "source": [
    "Ta którka sekcja służy zbadaniu modelu, który nie posiada w ogóle informacji o mocy w sieci. Ten krok został podjęty, ponieważ p value statystycznie wskazują na nieistotność cechy. Nie jest to jednak jednoznaczne w praktycznym podejściem do problemu, gdzie moc może okazać się istotna pod kątem fizycznym."
   ]
  },
  {
   "cell_type": "code",
   "execution_count": 28,
   "id": "3a6f870f",
   "metadata": {},
   "outputs": [
    {
     "name": "stdout",
     "output_type": "stream",
     "text": [
      "Optimization terminated successfully    (Exit mode 0)\n",
      "            Current function value: 0.38965846439360824\n",
      "            Iterations: 39\n",
      "            Function evaluations: 41\n",
      "            Gradient evaluations: 39\n"
     ]
    },
    {
     "name": "stderr",
     "output_type": "stream",
     "text": [
      "D:\\Programy\\Anaconda\\lib\\site-packages\\statsmodels\\tsa\\tsatools.py:142: FutureWarning: In a future version of pandas all arguments of concat except for the argument 'objs' will be keyword-only.\n",
      "  x = pd.concat(x[::order], 1)\n"
     ]
    },
    {
     "data": {
      "text/html": [
       "<table class=\"simpletable\">\n",
       "<caption>Logit Regression Results</caption>\n",
       "<tr>\n",
       "  <th>Dep. Variable:</th>         <td>stabf</td>      <th>  No. Observations:  </th>  <td>  7000</td> \n",
       "</tr>\n",
       "<tr>\n",
       "  <th>Model:</th>                 <td>Logit</td>      <th>  Df Residuals:      </th>  <td>  6991</td> \n",
       "</tr>\n",
       "<tr>\n",
       "  <th>Method:</th>                 <td>MLE</td>       <th>  Df Model:          </th>  <td>     8</td> \n",
       "</tr>\n",
       "<tr>\n",
       "  <th>Date:</th>            <td>Thu, 19 Jan 2023</td> <th>  Pseudo R-squ.:     </th>  <td>0.4065</td> \n",
       "</tr>\n",
       "<tr>\n",
       "  <th>Time:</th>                <td>19:50:59</td>     <th>  Log-Likelihood:    </th> <td> -2727.6</td>\n",
       "</tr>\n",
       "<tr>\n",
       "  <th>converged:</th>             <td>True</td>       <th>  LL-Null:           </th> <td> -4595.9</td>\n",
       "</tr>\n",
       "<tr>\n",
       "  <th>Covariance Type:</th>     <td>nonrobust</td>    <th>  LLR p-value:       </th>  <td> 0.000</td> \n",
       "</tr>\n",
       "</table>\n",
       "<table class=\"simpletable\">\n",
       "<tr>\n",
       "      <td></td>         <th>coef</th>     <th>std err</th>      <th>z</th>      <th>P>|z|</th>  <th>[0.025</th>    <th>0.975]</th>  \n",
       "</tr>\n",
       "<tr>\n",
       "  <th>intercept</th> <td>   11.8535</td> <td>    0.298</td> <td>   39.831</td> <td> 0.000</td> <td>   11.270</td> <td>   12.437</td>\n",
       "</tr>\n",
       "<tr>\n",
       "  <th>tau1</th>      <td>   -0.3165</td> <td>    0.014</td> <td>  -23.365</td> <td> 0.000</td> <td>   -0.343</td> <td>   -0.290</td>\n",
       "</tr>\n",
       "<tr>\n",
       "  <th>tau2</th>      <td>   -0.3230</td> <td>    0.014</td> <td>  -23.742</td> <td> 0.000</td> <td>   -0.350</td> <td>   -0.296</td>\n",
       "</tr>\n",
       "<tr>\n",
       "  <th>tau3</th>      <td>   -0.3266</td> <td>    0.014</td> <td>  -23.953</td> <td> 0.000</td> <td>   -0.353</td> <td>   -0.300</td>\n",
       "</tr>\n",
       "<tr>\n",
       "  <th>tau4</th>      <td>   -0.3368</td> <td>    0.014</td> <td>  -24.444</td> <td> 0.000</td> <td>   -0.364</td> <td>   -0.310</td>\n",
       "</tr>\n",
       "<tr>\n",
       "  <th>g1</th>        <td>   -2.7407</td> <td>    0.134</td> <td>  -20.507</td> <td> 0.000</td> <td>   -3.003</td> <td>   -2.479</td>\n",
       "</tr>\n",
       "<tr>\n",
       "  <th>g2</th>        <td>   -2.9120</td> <td>    0.135</td> <td>  -21.644</td> <td> 0.000</td> <td>   -3.176</td> <td>   -2.648</td>\n",
       "</tr>\n",
       "<tr>\n",
       "  <th>g3</th>        <td>   -2.9662</td> <td>    0.135</td> <td>  -21.964</td> <td> 0.000</td> <td>   -3.231</td> <td>   -2.701</td>\n",
       "</tr>\n",
       "<tr>\n",
       "  <th>g4</th>        <td>   -2.8777</td> <td>    0.133</td> <td>  -21.588</td> <td> 0.000</td> <td>   -3.139</td> <td>   -2.616</td>\n",
       "</tr>\n",
       "</table>"
      ],
      "text/plain": [
       "<class 'statsmodels.iolib.summary.Summary'>\n",
       "\"\"\"\n",
       "                           Logit Regression Results                           \n",
       "==============================================================================\n",
       "Dep. Variable:                  stabf   No. Observations:                 7000\n",
       "Model:                          Logit   Df Residuals:                     6991\n",
       "Method:                           MLE   Df Model:                            8\n",
       "Date:                Thu, 19 Jan 2023   Pseudo R-squ.:                  0.4065\n",
       "Time:                        19:50:59   Log-Likelihood:                -2727.6\n",
       "converged:                       True   LL-Null:                       -4595.9\n",
       "Covariance Type:            nonrobust   LLR p-value:                     0.000\n",
       "==============================================================================\n",
       "                 coef    std err          z      P>|z|      [0.025      0.975]\n",
       "------------------------------------------------------------------------------\n",
       "intercept     11.8535      0.298     39.831      0.000      11.270      12.437\n",
       "tau1          -0.3165      0.014    -23.365      0.000      -0.343      -0.290\n",
       "tau2          -0.3230      0.014    -23.742      0.000      -0.350      -0.296\n",
       "tau3          -0.3266      0.014    -23.953      0.000      -0.353      -0.300\n",
       "tau4          -0.3368      0.014    -24.444      0.000      -0.364      -0.310\n",
       "g1            -2.7407      0.134    -20.507      0.000      -3.003      -2.479\n",
       "g2            -2.9120      0.135    -21.644      0.000      -3.176      -2.648\n",
       "g3            -2.9662      0.135    -21.964      0.000      -3.231      -2.701\n",
       "g4            -2.8777      0.133    -21.588      0.000      -3.139      -2.616\n",
       "==============================================================================\n",
       "\"\"\""
      ]
     },
     "execution_count": 28,
     "metadata": {},
     "output_type": "execute_result"
    }
   ],
   "source": [
    "X_train_without_p = X_train.drop([\"p2\",  \"p3\", \"p4\"], axis=1)\n",
    "features_without_p = ['intercept','tau1', 'tau2', 'tau3', 'tau4', 'g1', 'g2',\n",
    "'g3', 'g4']\n",
    "x_1 = sm.add_constant(X_train_without_p)\n",
    "reg_log_without_p = sm.Logit(y_train, x_1)\n",
    "reg_log_without_p = reg_log_without_p.fit_regularized()\n",
    "\n",
    "reg_log_without_p.summary(xname = features_without_p)"
   ]
  },
  {
   "cell_type": "markdown",
   "id": "65688602",
   "metadata": {},
   "source": [
    "## Miara recall dla takiego zbioru"
   ]
  },
  {
   "cell_type": "code",
   "execution_count": 29,
   "id": "afa3e559",
   "metadata": {},
   "outputs": [
    {
     "data": {
      "text/plain": [
       "0.704052780395853"
      ]
     },
     "execution_count": 29,
     "metadata": {},
     "output_type": "execute_result"
    }
   ],
   "source": [
    "from sklearn.linear_model import LogisticRegression\n",
    "from sklearn.metrics import recall_score\n",
    "X_test_without_p = X_test.drop([\"p2\",\"p3\",\"p4\"], axis=1)\n",
    "log_clf_without_p =  LogisticRegression( C = 1e9,solver = 'newton-cg' ).fit(X_train_without_p, y_train)\n",
    "y_pred_logit_without_p = log_clf_without_p.predict(X_test_without_p)\n",
    "recall_score(y_test,y_pred_logit_without_p)\n"
   ]
  },
  {
   "cell_type": "markdown",
   "id": "f8600de8",
   "metadata": {},
   "source": [
    "## BIC"
   ]
  },
  {
   "cell_type": "code",
   "execution_count": 30,
   "id": "7e841457",
   "metadata": {},
   "outputs": [
    {
     "name": "stdout",
     "output_type": "stream",
     "text": [
      "5534.901490362852\n"
     ]
    }
   ],
   "source": [
    "print(reg_log_without_p.bic)"
   ]
  },
  {
   "cell_type": "markdown",
   "id": "1c43448e",
   "metadata": {},
   "source": [
    "# Feature scaling"
   ]
  },
  {
   "cell_type": "markdown",
   "id": "3aab68d7",
   "metadata": {},
   "source": [
    "W tej sekcji zbiór uczący zostanie poddany skalowaniu poprzez standaryzację. "
   ]
  },
  {
   "cell_type": "code",
   "execution_count": 31,
   "id": "961eb7a6",
   "metadata": {},
   "outputs": [],
   "source": [
    "from sklearn.preprocessing import StandardScaler\n",
    "scaler = StandardScaler()\n",
    "X_train_scaled = scaler.fit_transform(X_train)\n",
    "X_test_scaled = scaler.fit_transform(X_test)"
   ]
  },
  {
   "cell_type": "markdown",
   "id": "d3e9d6e9",
   "metadata": {},
   "source": [
    "# STWORZENIE MODELI UCZENIA MASZYNOWEGO"
   ]
  },
  {
   "cell_type": "markdown",
   "id": "bf3dddf5",
   "metadata": {},
   "source": [
    "# Regresja logistyczna"
   ]
  },
  {
   "cell_type": "markdown",
   "id": "439fb6c5",
   "metadata": {},
   "source": [
    "Regresja logistyczna zostanie przeprowadzona zarówno dla danych skalowanych jak i nieskalowanych. Okaże się, że proces standaryzacji nie poprawił znacząco wyników.\n",
    "\n",
    "Wykorzytano również dwie biblioteki uczenia maszynowego - statsmodels ze względu na szeroki opis statystyczny modelu oraz sklearn ze względu na jego efektywność."
   ]
  },
  {
   "cell_type": "markdown",
   "id": "29d88d09",
   "metadata": {},
   "source": [
    "## Model z danymi bez skalowania"
   ]
  },
  {
   "cell_type": "markdown",
   "id": "cc45ae29",
   "metadata": {},
   "source": [
    "### STATSMODELS"
   ]
  },
  {
   "cell_type": "code",
   "execution_count": 32,
   "id": "2b232758",
   "metadata": {},
   "outputs": [
    {
     "name": "stdout",
     "output_type": "stream",
     "text": [
      "Optimization terminated successfully    (Exit mode 0)\n",
      "            Current function value: 0.38926212156512574\n",
      "            Iterations: 55\n",
      "            Function evaluations: 57\n",
      "            Gradient evaluations: 55\n",
      "BIC = 5555.91368704821\n"
     ]
    },
    {
     "name": "stderr",
     "output_type": "stream",
     "text": [
      "D:\\Programy\\Anaconda\\lib\\site-packages\\statsmodels\\tsa\\tsatools.py:142: FutureWarning: In a future version of pandas all arguments of concat except for the argument 'objs' will be keyword-only.\n",
      "  x = pd.concat(x[::order], 1)\n"
     ]
    }
   ],
   "source": [
    "x_1 = sm.add_constant(X_train)\n",
    "reg_log_1 = sm.Logit(y_train, x_1)\n",
    "results_log_1 = reg_log_1.fit_regularized()\n",
    "\n",
    "results_log_1.summary(xname = features_name)\n",
    "print(\"BIC = {}\".format(results_log_1.bic))"
   ]
  },
  {
   "cell_type": "markdown",
   "id": "cb23b059",
   "metadata": {},
   "source": [
    "### SKLEARN"
   ]
  },
  {
   "cell_type": "code",
   "execution_count": 33,
   "id": "47eae781",
   "metadata": {},
   "outputs": [
    {
     "name": "stdout",
     "output_type": "stream",
     "text": [
      "Elapsed time:  0.06301426887512207\n",
      "Intercept and coef: [[-0.31738279 -0.32311978 -0.3267391  -0.33700186  0.05629906 -0.13130455\n",
      "   0.12039283 -2.73631118 -2.91505049 -2.97337793 -2.88595004]] , [11.92337361]\n",
      "[ 1.          7.30876647  3.71857489  0.89045188  9.8210065  -1.12972199\n",
      " -1.3799849  -1.88172913  0.19812965  0.2861812   0.23983858  0.25585561]\n",
      "Pi_1 = 0.8658396429885763\n",
      "Pi_2 = 0.1341603570114237\n"
     ]
    }
   ],
   "source": [
    "from sklearn.linear_model import LogisticRegression\n",
    "import time\n",
    "\n",
    "start = time.time()\n",
    "log_clf =  LogisticRegression( C = 1e9, solver = 'newton-cg')\n",
    "log_clf.fit(X_train, y_train)\n",
    "end = time.time()\n",
    "print(\"Elapsed time: \",end - start)\n",
    "print(\"Intercept and coef: {} , {}\".format(log_clf.coef_, log_clf.intercept_))\n",
    "params = np.append(log_clf.intercept_, log_clf.coef_)\n",
    "\n",
    "x_t = X_train.head(1)\n",
    "x_t = np.append(1, x_t)\n",
    "print(x_t)\n",
    "pi = math.exp(np.dot(x_t, params))/(1+math.exp(np.dot(x_t, params)))\n",
    "print(\"Pi_1 = {}\".format(pi))\n",
    "print(\"Pi_2 = {}\".format(1-pi))\n"
   ]
  },
  {
   "cell_type": "markdown",
   "id": "d277a653",
   "metadata": {},
   "source": [
    "## Model z danymi ze skalowaniem"
   ]
  },
  {
   "cell_type": "markdown",
   "id": "95e5f47d",
   "metadata": {},
   "source": [
    "### Statsmodels"
   ]
  },
  {
   "cell_type": "code",
   "execution_count": 34,
   "id": "84ce26cf",
   "metadata": {},
   "outputs": [
    {
     "name": "stdout",
     "output_type": "stream",
     "text": [
      "Optimization terminated successfully.\n",
      "         Current function value: 0.389262\n",
      "         Iterations 7\n"
     ]
    },
    {
     "data": {
      "text/html": [
       "<table class=\"simpletable\">\n",
       "<caption>Logit Regression Results</caption>\n",
       "<tr>\n",
       "  <th>Dep. Variable:</th>         <td>stabf</td>      <th>  No. Observations:  </th>  <td>  7000</td> \n",
       "</tr>\n",
       "<tr>\n",
       "  <th>Model:</th>                 <td>Logit</td>      <th>  Df Residuals:      </th>  <td>  6988</td> \n",
       "</tr>\n",
       "<tr>\n",
       "  <th>Method:</th>                 <td>MLE</td>       <th>  Df Model:          </th>  <td>    11</td> \n",
       "</tr>\n",
       "<tr>\n",
       "  <th>Date:</th>            <td>Thu, 19 Jan 2023</td> <th>  Pseudo R-squ.:     </th>  <td>0.4071</td> \n",
       "</tr>\n",
       "<tr>\n",
       "  <th>Time:</th>                <td>19:50:59</td>     <th>  Log-Likelihood:    </th> <td> -2724.8</td>\n",
       "</tr>\n",
       "<tr>\n",
       "  <th>converged:</th>             <td>True</td>       <th>  LL-Null:           </th> <td> -4595.9</td>\n",
       "</tr>\n",
       "<tr>\n",
       "  <th>Covariance Type:</th>     <td>nonrobust</td>    <th>  LLR p-value:       </th>  <td> 0.000</td> \n",
       "</tr>\n",
       "</table>\n",
       "<table class=\"simpletable\">\n",
       "<tr>\n",
       "      <td></td>         <th>coef</th>     <th>std err</th>      <th>z</th>      <th>P>|z|</th>  <th>[0.025</th>    <th>0.975]</th>  \n",
       "</tr>\n",
       "<tr>\n",
       "  <th>intercept</th> <td>   -1.0387</td> <td>    0.038</td> <td>  -27.266</td> <td> 0.000</td> <td>   -1.113</td> <td>   -0.964</td>\n",
       "</tr>\n",
       "<tr>\n",
       "  <th>tau1</th>      <td>   -0.8685</td> <td>    0.037</td> <td>  -23.381</td> <td> 0.000</td> <td>   -0.941</td> <td>   -0.796</td>\n",
       "</tr>\n",
       "<tr>\n",
       "  <th>tau2</th>      <td>   -0.8876</td> <td>    0.037</td> <td>  -23.738</td> <td> 0.000</td> <td>   -0.961</td> <td>   -0.814</td>\n",
       "</tr>\n",
       "<tr>\n",
       "  <th>tau3</th>      <td>   -0.8998</td> <td>    0.038</td> <td>  -23.924</td> <td> 0.000</td> <td>   -0.974</td> <td>   -0.826</td>\n",
       "</tr>\n",
       "<tr>\n",
       "  <th>tau4</th>      <td>   -0.9225</td> <td>    0.038</td> <td>  -24.445</td> <td> 0.000</td> <td>   -0.996</td> <td>   -0.849</td>\n",
       "</tr>\n",
       "<tr>\n",
       "  <th>p2</th>        <td>    0.0244</td> <td>    0.034</td> <td>    0.719</td> <td> 0.472</td> <td>   -0.042</td> <td>    0.091</td>\n",
       "</tr>\n",
       "<tr>\n",
       "  <th>p3</th>        <td>   -0.0568</td> <td>    0.034</td> <td>   -1.675</td> <td> 0.094</td> <td>   -0.123</td> <td>    0.010</td>\n",
       "</tr>\n",
       "<tr>\n",
       "  <th>p4</th>        <td>    0.0522</td> <td>    0.034</td> <td>    1.549</td> <td> 0.121</td> <td>   -0.014</td> <td>    0.118</td>\n",
       "</tr>\n",
       "<tr>\n",
       "  <th>g1</th>        <td>   -0.7442</td> <td>    0.036</td> <td>  -20.470</td> <td> 0.000</td> <td>   -0.815</td> <td>   -0.673</td>\n",
       "</tr>\n",
       "<tr>\n",
       "  <th>g2</th>        <td>   -0.8003</td> <td>    0.037</td> <td>  -21.648</td> <td> 0.000</td> <td>   -0.873</td> <td>   -0.728</td>\n",
       "</tr>\n",
       "<tr>\n",
       "  <th>g3</th>        <td>   -0.8151</td> <td>    0.037</td> <td>  -21.987</td> <td> 0.000</td> <td>   -0.888</td> <td>   -0.742</td>\n",
       "</tr>\n",
       "<tr>\n",
       "  <th>g4</th>        <td>   -0.7900</td> <td>    0.037</td> <td>  -21.619</td> <td> 0.000</td> <td>   -0.862</td> <td>   -0.718</td>\n",
       "</tr>\n",
       "</table>"
      ],
      "text/plain": [
       "<class 'statsmodels.iolib.summary.Summary'>\n",
       "\"\"\"\n",
       "                           Logit Regression Results                           \n",
       "==============================================================================\n",
       "Dep. Variable:                  stabf   No. Observations:                 7000\n",
       "Model:                          Logit   Df Residuals:                     6988\n",
       "Method:                           MLE   Df Model:                           11\n",
       "Date:                Thu, 19 Jan 2023   Pseudo R-squ.:                  0.4071\n",
       "Time:                        19:50:59   Log-Likelihood:                -2724.8\n",
       "converged:                       True   LL-Null:                       -4595.9\n",
       "Covariance Type:            nonrobust   LLR p-value:                     0.000\n",
       "==============================================================================\n",
       "                 coef    std err          z      P>|z|      [0.025      0.975]\n",
       "------------------------------------------------------------------------------\n",
       "intercept     -1.0387      0.038    -27.266      0.000      -1.113      -0.964\n",
       "tau1          -0.8685      0.037    -23.381      0.000      -0.941      -0.796\n",
       "tau2          -0.8876      0.037    -23.738      0.000      -0.961      -0.814\n",
       "tau3          -0.8998      0.038    -23.924      0.000      -0.974      -0.826\n",
       "tau4          -0.9225      0.038    -24.445      0.000      -0.996      -0.849\n",
       "p2             0.0244      0.034      0.719      0.472      -0.042       0.091\n",
       "p3            -0.0568      0.034     -1.675      0.094      -0.123       0.010\n",
       "p4             0.0522      0.034      1.549      0.121      -0.014       0.118\n",
       "g1            -0.7442      0.036    -20.470      0.000      -0.815      -0.673\n",
       "g2            -0.8003      0.037    -21.648      0.000      -0.873      -0.728\n",
       "g3            -0.8151      0.037    -21.987      0.000      -0.888      -0.742\n",
       "g4            -0.7900      0.037    -21.619      0.000      -0.862      -0.718\n",
       "==============================================================================\n",
       "\"\"\""
      ]
     },
     "execution_count": 34,
     "metadata": {},
     "output_type": "execute_result"
    }
   ],
   "source": [
    "x = sm.add_constant(X_train_scaled)\n",
    "reg_log = sm.Logit(y_train, x)\n",
    "results_log = reg_log.fit()\n",
    "results_log.summary(xname = features_name)"
   ]
  },
  {
   "cell_type": "code",
   "execution_count": 35,
   "id": "4bdfb83a",
   "metadata": {},
   "outputs": [
    {
     "data": {
      "text/plain": [
       "intercept    1.066408e-163\n",
       "tau1         6.676004e-121\n",
       "tau2         1.451483e-124\n",
       "tau3         1.725659e-126\n",
       "tau4         5.638742e-132\n",
       "p2            4.720577e-01\n",
       "p3            9.399546e-02\n",
       "p4            1.214305e-01\n",
       "g1            3.945734e-93\n",
       "g2           6.348126e-104\n",
       "g3           3.807494e-107\n",
       "g4           1.200307e-103\n",
       "Name: P>|z|, dtype: float64"
      ]
     },
     "execution_count": 35,
     "metadata": {},
     "output_type": "execute_result"
    }
   ],
   "source": [
    "p_values = results_log.summary2(xname = features_name).tables[1]['P>|z|']\n",
    "p_values"
   ]
  },
  {
   "cell_type": "markdown",
   "id": "e11f05ae",
   "metadata": {},
   "source": [
    "### Sklearn"
   ]
  },
  {
   "cell_type": "code",
   "execution_count": 36,
   "id": "8d7e42d0",
   "metadata": {},
   "outputs": [
    {
     "name": "stdout",
     "output_type": "stream",
     "text": [
      "Intercept and coef: [-1.03870502 -0.86851445 -0.8875602  -0.8998078  -0.92248374  0.02439699\n",
      " -0.05677581  0.05222928 -0.74419334 -0.80034805 -0.81510856 -0.78996773] \n",
      "Pi_1 = 0.8658395945717557\n",
      "Pi_2 = 0.13416040542824426\n"
     ]
    }
   ],
   "source": [
    "log_clf =  LogisticRegression( C = 1e9, solver = 'newton-cg')\n",
    "log_clf.fit(X_train_scaled, y_train)\n",
    "params = np.append(log_clf.intercept_, log_clf.coef_)\n",
    "print(\"Intercept and coef: {} \".format(params))\n",
    "\n",
    "x_t = X_train_scaled[0,:]\n",
    "x_t = np.append(1, x_t)\n",
    "pi = math.exp(np.dot(x_t, params))/(1+math.exp(np.dot(x_t, params)))\n",
    "print(\"Pi_1 = {}\".format(pi))\n",
    "print(\"Pi_2 = {}\".format(1-pi))"
   ]
  },
  {
   "cell_type": "code",
   "execution_count": 37,
   "id": "a8cc7a6f",
   "metadata": {},
   "outputs": [],
   "source": [
    "from sklearn.model_selection import cross_val_predict\n",
    "y_probas_logit = cross_val_predict(log_clf, X_train_scaled, y_train, cv = 3, method = 'predict_proba')\n",
    "y_scores_logit = y_probas_logit[:,1]"
   ]
  },
  {
   "cell_type": "markdown",
   "id": "2d71f112",
   "metadata": {},
   "source": [
    "## LASY LOSOWE"
   ]
  },
  {
   "cell_type": "markdown",
   "id": "a8f99f97",
   "metadata": {},
   "source": [
    "### SZUKANIE PARAMETRÓW DLA MODELU"
   ]
  },
  {
   "cell_type": "markdown",
   "id": "1bf05a30",
   "metadata": {},
   "source": [
    "Szukanie paramewtrów odbywa się dzięki narzędziu RandomizedSearchCV.  Model zostanie wyuczony poprzez zbiór bez standaryzacji. Nie ma to w tym przypadku znaczenia, ponieważ lasy losowe nie wykonują obliczeń na danych numerycznych."
   ]
  },
  {
   "cell_type": "code",
   "execution_count": 38,
   "id": "ad35ec84",
   "metadata": {},
   "outputs": [],
   "source": [
    "# from sklearn.model_selection import RandomizedSearchCV\n",
    "# from sklearn.ensemble import RandomForestClassifier\n",
    "\n",
    "\n",
    "# max_depth = [int(x) for x in np.linspace(10, 110, num = 11)]\n",
    "# max_depth.append(None)\n",
    "\n",
    "\n",
    "# random_grid = {'n_estimators': [int(x) for x in np.linspace(start = 200, stop = 2000, num = 10)],\n",
    "#                'max_features': ['auto', 'sqrt'],\n",
    "#                'max_depth': max_depth,\n",
    "#                'min_samples_split': [2,5,10],\n",
    "#                'min_samples_leaf':  [1,2, 4],\n",
    "#                'bootstrap': [True, False]}\n",
    "\n",
    "\n",
    "# rf = RandomForestClassifier()\n",
    "# rf_random = RandomizedSearchCV(estimator = rf, param_distributions = random_grid, n_iter = 100, cv = 3, verbose=2,  n_jobs = -1)\n",
    "# rf_random.fit(X_train, y_train)\n",
    "# rf_random.best_params_"
   ]
  },
  {
   "cell_type": "markdown",
   "id": "2c0fca33",
   "metadata": {},
   "source": [
    "### MODEL"
   ]
  },
  {
   "cell_type": "code",
   "execution_count": 39,
   "id": "67fa7367",
   "metadata": {},
   "outputs": [
    {
     "name": "stdout",
     "output_type": "stream",
     "text": [
      "Elapsed time:  13.427017211914062\n"
     ]
    },
    {
     "data": {
      "text/plain": [
       "array([[0.05186905, 0.94813095]])"
      ]
     },
     "execution_count": 39,
     "metadata": {},
     "output_type": "execute_result"
    }
   ],
   "source": [
    "from sklearn.ensemble import RandomForestClassifier\n",
    "from sklearn.model_selection import cross_val_predict\n",
    "start = time.time()\n",
    "clf_forest = RandomForestClassifier(n_estimators=1200,\n",
    "                                    min_samples_split = 2,\n",
    "                                    min_samples_leaf = 2,\n",
    "                                    max_features = 'sqrt',\n",
    "                                    max_depth =  20,\n",
    "                                    bootstrap = True,\n",
    "                                    random_state = 42)\n",
    "clf_forest.fit(X_train, y_train)\n",
    "end = time.time()\n",
    "print(\"Elapsed time: \",end - start)\n",
    "clf_forest.predict_proba(X_train.head(1))"
   ]
  },
  {
   "cell_type": "code",
   "execution_count": null,
   "id": "e441e1d1",
   "metadata": {},
   "outputs": [],
   "source": [
    "\n"
   ]
  },
  {
   "cell_type": "code",
   "execution_count": 40,
   "id": "378f37de",
   "metadata": {},
   "outputs": [],
   "source": [
    "y_probas_forest = cross_val_predict(clf_forest, X_train, y_train, cv = 3, method = 'predict_proba')\n",
    "y_scores_forest = y_probas_forest[:,1]"
   ]
  },
  {
   "cell_type": "code",
   "execution_count": 41,
   "id": "21f84575",
   "metadata": {},
   "outputs": [
    {
     "data": {
      "text/plain": [
       "array([[1833,  106],\n",
       "       [ 142,  919]], dtype=int64)"
      ]
     },
     "execution_count": 41,
     "metadata": {},
     "output_type": "execute_result"
    }
   ],
   "source": [
    "y_predicted = clf_forest.predict(X_test)\n",
    "\n",
    "confusion_matrix(y_test, y_predicted)"
   ]
  },
  {
   "cell_type": "markdown",
   "id": "b30ef7f4",
   "metadata": {},
   "source": [
    "## SVM"
   ]
  },
  {
   "cell_type": "code",
   "execution_count": 42,
   "id": "ae918fb3",
   "metadata": {},
   "outputs": [],
   "source": [
    "# from sklearn.model_selection import GridSearchCV\n",
    "# from sklearn.svm import SVC\n",
    "# parameters_svc = {'C': [0.1, 1, 100, 1000],\n",
    "#               'gamma': [1, 0.1, 0.01],\n",
    "#               'kernel': ['poly', 'rbf']}\n",
    "\n",
    "# svc_random = GridSearchCV(SVC(), parameters_svc, cv=5)\n",
    "# svc_random.fit(X_train, y_train)\n",
    "# svc_random.best_params_"
   ]
  },
  {
   "cell_type": "code",
   "execution_count": 43,
   "id": "140564c7",
   "metadata": {},
   "outputs": [
    {
     "name": "stdout",
     "output_type": "stream",
     "text": [
      "Elapsed time:  6.141380310058594\n"
     ]
    }
   ],
   "source": [
    "from sklearn.svm import SVC\n",
    "start = time.time()\n",
    "svm_clf = SVC(C= 1000, gamma= 0.01, kernel= 'rbf', random_state=42, probability = True)\n",
    "svm_clf.fit(X_train, y_train)\n",
    "end = time.time()\n",
    "print(\"Elapsed time: \",end - start)"
   ]
  },
  {
   "cell_type": "code",
   "execution_count": 44,
   "id": "c2574638",
   "metadata": {},
   "outputs": [
    {
     "data": {
      "text/plain": [
       "array([[1886,   53],\n",
       "       [  35, 1026]], dtype=int64)"
      ]
     },
     "execution_count": 44,
     "metadata": {},
     "output_type": "execute_result"
    }
   ],
   "source": [
    "y_probas_svm = cross_val_predict(svm_clf, X_train, y_train, cv = 3, method = 'predict_proba')\n",
    "y_scores_svm = y_probas_forest[:,1]\n",
    "\n",
    "y_predicted = svm_clf.predict(X_test)\n",
    "confusion_matrix(y_test, y_predicted)"
   ]
  },
  {
   "cell_type": "markdown",
   "id": "62a08c48",
   "metadata": {},
   "source": [
    "# TUNING LOGISTIC REGRESSION PARAMS"
   ]
  },
  {
   "cell_type": "markdown",
   "id": "cefcb87b",
   "metadata": {},
   "source": [
    "Aby porównać modele jeszcze raz przeprowadzono regresję logistyczną. Teraz jednaj wykorzytano narzędzie do estymowania najlepszych parametrów samego modelu."
   ]
  },
  {
   "cell_type": "code",
   "execution_count": 45,
   "id": "03b16541",
   "metadata": {},
   "outputs": [],
   "source": [
    "# import warnings\n",
    "# warnings.filterwarnings('ignore')\n",
    "# parameters_logit = {'penalty' : ['l1','l2'], \n",
    "#                     'C'       : [1e7,1e8,1e9,1e10, 1e11],\n",
    "#                     'solver'  : ['newton-cg', 'lbfgs', 'liblinear'],\n",
    "# }\n",
    "\n",
    "# logit_random = GridSearchCV(LogisticRegression(), parameters_logit, cv=5)\n",
    "# logit_random.fit(X_train_scaled, y_train)\n",
    "# logit_random.best_params_"
   ]
  },
  {
   "cell_type": "markdown",
   "id": "9b3e2f7f",
   "metadata": {},
   "source": [
    "## TEST DLA DANYCH SKALOWANYCH"
   ]
  },
  {
   "cell_type": "markdown",
   "id": "7e7c7df9",
   "metadata": {},
   "source": [
    "Regresję logistyczną przeprowadzono dla danych skalowanych i nieskalowanych, jednak różnica w wynikacj nie jest znacząca."
   ]
  },
  {
   "cell_type": "code",
   "execution_count": 46,
   "id": "7276eeb5",
   "metadata": {},
   "outputs": [
    {
     "name": "stdout",
     "output_type": "stream",
     "text": [
      "Pi_1 = 0.8658108421832464\n",
      "Pi_2 = 0.13418915781675356\n",
      "[ 0.73971384 -0.56205803 -1.58298505  1.6546683   0.28109126 -0.29664532\n",
      " -1.4560756  -1.18998073 -0.85801746 -1.04918059 -0.97959443]\n"
     ]
    }
   ],
   "source": [
    "\n",
    "log_clf =  LogisticRegression(C = 10000000.0, \n",
    "                              penalty='l1', \n",
    "                              solver='liblinear')\n",
    "log_clf.fit(X_train_scaled, y_train)\n",
    "\n",
    "y_probas_logit = cross_val_predict(log_clf, X_train_scaled, y_train, cv = 3, method = 'predict_proba')\n",
    "y_scores_logit = y_probas_logit[:,1]\n",
    "\n",
    "params = np.append(log_clf.intercept_, log_clf.coef_)\n",
    "x_t = X_train_scaled[0,:]\n",
    "x_t = np.append(1, x_t)\n",
    "pi = math.exp(np.dot(x_t, params))/(1+math.exp(np.dot(x_t, params)))\n",
    "print(\"Pi_1 = {}\".format(pi))\n",
    "print(\"Pi_2 = {}\".format(1-pi))\n",
    "log_clf.predict_proba(X_train_scaled[0,:].reshape(1,-1))\n",
    "print(X_train_scaled[0,:])"
   ]
  },
  {
   "cell_type": "code",
   "execution_count": 47,
   "id": "f6483431",
   "metadata": {},
   "outputs": [
    {
     "data": {
      "text/plain": [
       "array([[1684,  255],\n",
       "       [ 323,  738]], dtype=int64)"
      ]
     },
     "execution_count": 47,
     "metadata": {},
     "output_type": "execute_result"
    }
   ],
   "source": [
    "y_predicted = log_clf.predict(X_test_scaled)\n",
    "confusion_matrix(y_test, y_predicted)"
   ]
  },
  {
   "cell_type": "markdown",
   "id": "58266a76",
   "metadata": {},
   "source": [
    "## MODEL DLA NIESKALOWANYCH"
   ]
  },
  {
   "cell_type": "code",
   "execution_count": 48,
   "id": "bab29d37",
   "metadata": {},
   "outputs": [
    {
     "name": "stdout",
     "output_type": "stream",
     "text": [
      "Elapsed time:  0.06601190567016602\n",
      "Pi_1 = 0.8658108421832464\n",
      "Pi_2 = 0.13418915781675356\n"
     ]
    },
    {
     "data": {
      "text/plain": [
       "array([[0.13485758, 0.86514242]])"
      ]
     },
     "execution_count": 48,
     "metadata": {},
     "output_type": "execute_result"
    }
   ],
   "source": [
    "start = time.time()\n",
    "log_clf =  LogisticRegression(C = 10000000.0, \n",
    "                              penalty='l1', \n",
    "                              solver='liblinear')\n",
    "log_clf.fit(X_train, y_train)\n",
    "end = time.time()\n",
    "print(\"Elapsed time: \",end - start)\n",
    "y_probas_logit = cross_val_predict(log_clf, X_train, y_train, cv = 3, method = 'predict_proba')\n",
    "y_scores_logit = y_probas_logit[:,1]\n",
    "arams = np.append(log_clf.intercept_, log_clf.coef_)\n",
    "x_t = X_train_scaled[0,:]\n",
    "x_t = np.append(1, x_t)\n",
    "pi = math.exp(np.dot(x_t, params))/(1+math.exp(np.dot(x_t, params)))\n",
    "print(\"Pi_1 = {}\".format(pi))\n",
    "print(\"Pi_2 = {}\".format(1-pi))\n",
    "log_clf.predict_proba(X_train.head(1))\n"
   ]
  },
  {
   "cell_type": "markdown",
   "id": "e1cf19c1",
   "metadata": {},
   "source": [
    "#### MACIERZ POMYŁEK"
   ]
  },
  {
   "cell_type": "code",
   "execution_count": 49,
   "id": "05d04c09",
   "metadata": {},
   "outputs": [
    {
     "data": {
      "text/plain": [
       "array([[1674,  265],\n",
       "       [ 311,  750]], dtype=int64)"
      ]
     },
     "execution_count": 49,
     "metadata": {},
     "output_type": "execute_result"
    }
   ],
   "source": [
    "y_predicted = log_clf.predict(X_test)\n",
    "confusion_matrix(y_test, y_predicted)"
   ]
  },
  {
   "cell_type": "markdown",
   "id": "c7330b2c",
   "metadata": {},
   "source": [
    "# ROC"
   ]
  },
  {
   "cell_type": "markdown",
   "id": "8bc75863",
   "metadata": {},
   "source": [
    "Krzywa ROC wykreślona dla danych treningowych pokazuje zbliżone działanie modeli SVM i Lasów Losowych. Należy jednak pamiętać, że Las Losowy ma skłonności do przetrenowywania danych."
   ]
  },
  {
   "cell_type": "code",
   "execution_count": 50,
   "id": "c22d83b3",
   "metadata": {},
   "outputs": [
    {
     "data": {
      "image/png": "[encoded data removed]",
      "text/plain": [
       "<Figure size 432x288 with 1 Axes>"
      ]
     },
     "metadata": {},
     "output_type": "display_data"
    }
   ],
   "source": [
    "from sklearn.metrics import roc_curve\n",
    "def plot_roc(fpr, tpr, label = None):\n",
    "    plt.plot(fpr, tpr, label = label)\n",
    "    plt.plot([0,1], [0,1], 'r--')\n",
    "    plt.xlabel(\"Odsetek fałszywie pozytywnych\")\n",
    "    plt.ylabel(\"Pełność\")\n",
    "    \n",
    "    \n",
    "fpr_forest, tpr_forest, threshold_forest = roc_curve(y_train, y_scores_forest)\n",
    "fpr_logit, tpr_logit, threshold_logit = roc_curve(y_train, y_scores_logit)\n",
    "fpr_svm, tpr_svm, threshold_svm = roc_curve(y_train, y_scores_svm)\n",
    "\n",
    "plot_roc(fpr_forest, tpr_forest, \"Las losowy\")\n",
    "plot_roc(fpr_logit, tpr_logit, \"Regresja logistyczna\")\n",
    "plot_roc(fpr_svm, tpr_svm, \"SVC\")\n",
    "plt.legend(loc = \"lower right\")\n",
    "plt.show()"
   ]
  },
  {
   "cell_type": "markdown",
   "id": "cf843c14",
   "metadata": {},
   "source": [
    "# AUC"
   ]
  },
  {
   "cell_type": "markdown",
   "id": "b18f3922",
   "metadata": {},
   "source": [
    "Obliczone zostały pola pod wykresami."
   ]
  },
  {
   "cell_type": "code",
   "execution_count": 51,
   "id": "d371f1e6",
   "metadata": {},
   "outputs": [
    {
     "name": "stdout",
     "output_type": "stream",
     "text": [
      "0.9769512462428018 0.9769512462428018 0.8911787643630145\n"
     ]
    }
   ],
   "source": [
    "from sklearn.metrics import auc\n",
    "print(auc(fpr_svm, tpr_svm), auc(fpr_forest, tpr_forest), auc(fpr_logit, tpr_logit, ))"
   ]
  },
  {
   "cell_type": "markdown",
   "id": "6d33fa7d",
   "metadata": {},
   "source": [
    "# TESTOWANIE MODELI"
   ]
  },
  {
   "cell_type": "markdown",
   "id": "dbe5e747",
   "metadata": {},
   "source": [
    "# RECALL - pełność"
   ]
  },
  {
   "cell_type": "markdown",
   "id": "7a24f47a",
   "metadata": {},
   "source": [
    "Miara pełności określi jak dobrze modele zachowują się na danych testowych."
   ]
  },
  {
   "cell_type": "code",
   "execution_count": 52,
   "id": "8ba762c6",
   "metadata": {},
   "outputs": [
    {
     "data": {
      "text/html": [
       "<div>\n",
       "<style scoped>\n",
       "    .dataframe tbody tr th:only-of-type {\n",
       "        vertical-align: middle;\n",
       "    }\n",
       "\n",
       "    .dataframe tbody tr th {\n",
       "        vertical-align: top;\n",
       "    }\n",
       "\n",
       "    .dataframe thead th {\n",
       "        text-align: right;\n",
       "    }\n",
       "</style>\n",
       "<table border=\"1\" class=\"dataframe\">\n",
       "  <thead>\n",
       "    <tr style=\"text-align: right;\">\n",
       "      <th></th>\n",
       "      <th>RECALL</th>\n",
       "    </tr>\n",
       "  </thead>\n",
       "  <tbody>\n",
       "    <tr>\n",
       "      <th>logit</th>\n",
       "      <td>0.706880</td>\n",
       "    </tr>\n",
       "    <tr>\n",
       "      <th>forest</th>\n",
       "      <td>0.866164</td>\n",
       "    </tr>\n",
       "    <tr>\n",
       "      <th>svm</th>\n",
       "      <td>0.967012</td>\n",
       "    </tr>\n",
       "  </tbody>\n",
       "</table>\n",
       "</div>"
      ],
      "text/plain": [
       "          RECALL\n",
       "logit   0.706880\n",
       "forest  0.866164\n",
       "svm     0.967012"
      ]
     },
     "execution_count": 52,
     "metadata": {},
     "output_type": "execute_result"
    }
   ],
   "source": [
    "from sklearn.metrics import recall_score\n",
    "y_pred_logit = log_clf.predict(X_test)\n",
    "y_pred_forest = clf_forest.predict(X_test)\n",
    "y_pred_svm = svm_clf.predict(X_test)\n",
    "\n",
    "recall_logit = recall_score(y_test, y_pred_logit)\n",
    "recall_forest = recall_score(y_test, y_pred_forest)\n",
    "recall_svm = recall_score(y_test, y_pred_svm)\n",
    "df = pd.DataFrame(data = [recall_logit, recall_forest, recall_svm], index = [\"logit\", \"forest\", \"svm\"], columns = [\"RECALL\"])\n",
    "df"
   ]
  },
  {
   "cell_type": "code",
   "execution_count": 53,
   "id": "dbabc33f",
   "metadata": {},
   "outputs": [
    {
     "data": {
      "text/plain": [
       "0.9820242282141461"
      ]
     },
     "execution_count": 53,
     "metadata": {},
     "output_type": "execute_result"
    }
   ],
   "source": [
    "from sklearn.metrics import recall_score\n",
    "y_pred_train_svm = svm_clf.predict(X_train)\n",
    "recall_score(y_train,y_pred_train_svm)"
   ]
  },
  {
   "cell_type": "markdown",
   "id": "cb8899ba",
   "metadata": {},
   "source": [
    "Dla najlepszego modelu - SVM wyznaczono również precyzję. Jest ona na zadowalającym poziomie."
   ]
  },
  {
   "cell_type": "code",
   "execution_count": 54,
   "id": "80c616b6",
   "metadata": {},
   "outputs": [
    {
     "data": {
      "text/plain": [
       "0.9508804448563485"
      ]
     },
     "execution_count": 54,
     "metadata": {},
     "output_type": "execute_result"
    }
   ],
   "source": [
    "from sklearn.metrics import precision_score\n",
    "precision_svm = precision_score(y_test, y_pred_svm)\n",
    "precision_svm"
   ]
  },
  {
   "cell_type": "markdown",
   "id": "6938db15",
   "metadata": {},
   "source": [
    "# Krzywe ROC oraz miara AUC"
   ]
  },
  {
   "cell_type": "markdown",
   "id": "599e08e9",
   "metadata": {},
   "source": [
    "Na danych testowych wykreślono przywe ROC. Obliczono również pola pod wykresami."
   ]
  },
  {
   "cell_type": "code",
   "execution_count": 55,
   "id": "0880be3e",
   "metadata": {
    "scrolled": true
   },
   "outputs": [
    {
     "data": {
      "image/png": "[encoded data removed]",
      "text/plain": [
       "<Figure size 432x288 with 1 Axes>"
      ]
     },
     "metadata": {},
     "output_type": "display_data"
    }
   ],
   "source": [
    "fpr_forest, tpr_forest, threshold_forest = roc_curve(y_test, y_pred_forest)\n",
    "fpr_logit, tpr_logit, threshold_logit = roc_curve(y_test, y_pred_logit)\n",
    "fpr_svm, tpr_svm, threshold_svm = roc_curve(y_test, y_pred_svm)\n",
    "\n",
    "plot_roc(fpr_forest, tpr_forest, \"Las losowy\")\n",
    "plot_roc(fpr_logit, tpr_logit, \"Regresja logistyczna\")\n",
    "plot_roc(fpr_svm, tpr_svm, \"SVC\")\n",
    "plt.legend(loc = \"lower right\")\n",
    "plt.show()"
   ]
  },
  {
   "cell_type": "code",
   "execution_count": 56,
   "id": "7df5c0b1",
   "metadata": {},
   "outputs": [
    {
     "name": "stdout",
     "output_type": "stream",
     "text": [
      "0.9698392877193613 0.905748320961814 0.7851059579182016\n"
     ]
    }
   ],
   "source": [
    "print(auc(fpr_svm, tpr_svm), auc(fpr_forest, tpr_forest), auc(fpr_logit, tpr_logit))"
   ]
  },
  {
   "cell_type": "markdown",
   "id": "bb770ddd",
   "metadata": {},
   "source": [
    "# Modele bez uwzględnienia mocy"
   ]
  },
  {
   "cell_type": "markdown",
   "id": "38ad4052",
   "metadata": {},
   "source": [
    "## Random Forest"
   ]
  },
  {
   "cell_type": "code",
   "execution_count": 57,
   "id": "5d0016c3",
   "metadata": {},
   "outputs": [
    {
     "name": "stdout",
     "output_type": "stream",
     "text": [
      "[[1843   96]\n",
      " [ 137  924]]\n",
      "0.8708765315739868\n"
     ]
    }
   ],
   "source": [
    "clf_forest = RandomForestClassifier(n_estimators=1200,\n",
    "                                    min_samples_split = 2,\n",
    "                                    min_samples_leaf = 2,\n",
    "                                    max_features = 'sqrt',\n",
    "                                    max_depth =  20,\n",
    "                                    bootstrap = True,\n",
    "                                    random_state = 42)\n",
    "clf_forest.fit(X_train_without_p, y_train)\n",
    "y_predicted = clf_forest.predict(X_test_without_p)\n",
    "print(confusion_matrix(y_test, y_predicted))\n",
    "print(recall_score(y_test,y_predicted))"
   ]
  },
  {
   "cell_type": "markdown",
   "id": "bcc9df82",
   "metadata": {},
   "source": [
    "## SVM"
   ]
  },
  {
   "cell_type": "code",
   "execution_count": 58,
   "id": "a69e2066",
   "metadata": {},
   "outputs": [
    {
     "name": "stdout",
     "output_type": "stream",
     "text": [
      "[[1888   51]\n",
      " [  29 1032]]\n",
      "0.9726672950047125\n"
     ]
    }
   ],
   "source": [
    "svm_clf = SVC(C= 1000, gamma= 0.01, kernel= 'rbf', random_state=42, probability = True)\n",
    "svm_clf.fit(X_train_without_p, y_train)\n",
    "y_predicted = svm_clf.predict(X_test_without_p)\n",
    "print(confusion_matrix(y_test, y_predicted))\n",
    "print(recall_score(y_test,y_predicted))"
   ]
  },
  {
   "cell_type": "markdown",
   "id": "2946f6e5",
   "metadata": {},
   "source": [
    "## Logistic regression"
   ]
  },
  {
   "cell_type": "code",
   "execution_count": 59,
   "id": "964a988f",
   "metadata": {},
   "outputs": [
    {
     "name": "stdout",
     "output_type": "stream",
     "text": [
      "[[1673  266]\n",
      " [ 315  746]]\n",
      "0.70311027332705\n"
     ]
    }
   ],
   "source": [
    "log_clf =  LogisticRegression(C = 10000000.0, \n",
    "                              penalty='l1', \n",
    "                              solver='liblinear')\n",
    "log_clf.fit(X_train_without_p, y_train)\n",
    "\n",
    "y_predicted = log_clf.predict(X_test_without_p)\n",
    "print(confusion_matrix(y_test, y_predicted))\n",
    "print(recall_score(y_test,y_predicted))"
   ]
  }
 ],
 "metadata": {
  "kernelspec": {
   "display_name": "Python 3",
   "language": "python",
   "name": "python3"
  },
  "language_info": {
   "codemirror_mode": {
    "name": "ipython",
    "version": 3
   },
   "file_extension": ".py",
   "mimetype": "text/x-python",
   "name": "python",
   "nbconvert_exporter": "python",
   "pygments_lexer": "ipython3",
   "version": "3.8.8"
  }
 },
 "nbformat": 4,
 "nbformat_minor": 5
}
